{
 "cells": [
  {
   "cell_type": "markdown",
   "metadata": {},
   "source": [
    "# Análise Exploratória\n",
    "\n",
    "* O principal passo de um projeto de CD, bem antes de usar modelos de ML, é **entender os seus dados**!\n",
    "* Algumas etapas são fundamentais nesse processo!\n"
   ]
  },
  {
   "cell_type": "markdown",
   "metadata": {},
   "source": [
    "## Explicando o dataset\n",
    "\n",
    "* Passenger ID: ID do passageiro\n",
    "* Survived: sobrevivente (0 = não, 1 = sim)\n",
    "* "
   ]
  },
  {
   "cell_type": "markdown",
   "metadata": {},
   "source": []
  }
 ],
 "metadata": {
  "language_info": {
   "name": "python"
  }
 },
 "nbformat": 4,
 "nbformat_minor": 2
}
