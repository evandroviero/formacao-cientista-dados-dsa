{
 "cells": [
  {
   "cell_type": "code",
   "execution_count": 1,
   "metadata": {},
   "outputs": [],
   "source": [
    "# Imports\n",
    "import pandas as pd\n",
    "import numpy as np\n",
    "import factor_analyzer\n",
    "from factor_analyzer import FactorAnalyzer\n",
    "from factor_analyzer.factor_analyzer import calculate_bartlett_sphericity\n",
    "from factor_analyzer.factor_analyzer import calculate_kmo\n",
    "import matplotlib.pyplot as plt"
   ]
  },
  {
   "cell_type": "markdown",
   "metadata": {},
   "source": [
    "## O Que é Redução de Dimensionalidade?\n",
    "\n",
    "A redução de dimensionalidade é uma técnica utilizada em análise de dados e aprendizado de máquina para diminuir o número de variáveis aleatórias sob consideração, transformando um conjunto de dados de alta dimensão em um de dimensão menor. O objetivo é simplificar o modelo sem perder informações significativas, facilitando o processamento, a visualização e a análise dos dados.\n",
    "\n",
    "Essencialmente, a redução de dimensionalidade pode ajudar em vários aspectos, como:\n",
    "* **Melhoria do Desempenho de Modelos**: Reduzir a dimensionalidade pode diminuir o tempo de treinamento e melhorar o desempenho dos modelos de aprendizado de máquina, além de reduzir o risco de overfitting.\n",
    "* **Redução de Ruído**: Ao eliminar as dimensões que contêm mais ruído do que informações úteis, a redução de dimensionalidade pode aumentar a precisão dos modelos.\n",
    "* **Visualização de Dados**: Diminuir a quantidade de variáveis torna possível visualizar dados multidimensionais em 2D ou 3D, o que facilita o reconhecimento de padrões e estruturas.\n",
    "* **Eficiência Computacional**: Menos dados implicam em menor carga computacional, o que é fundamental para o processamento de grandes volumes de dados.\n",
    "\n",
    "Existem várias técnicas de redução de dimensionalidade, com diferentes abordagens e objetivos. Algumas das mais conhecidas incluem:\n",
    "* **Análise de Componentes Principais (PCA)**: Encontra as direções de máxima variação nos dados e os projeta em um novo espaço com dimensões reduzidas.\n",
    "* **Análise Fatorial**: Identifica variáveis latentes que explicam as correlações entre observações.\n",
    "* **t-SNE (t-distributed Stochastic Neighbor Embedding)**: Utilizada principalmente para visualização de dados de alta dimensão, mapeando-os em espaços de duas ou três dimensões.\n",
    "* **Autoencoders**: São redes neurais utilizadas para aprender representações eficientes de dados, comprimindo a entrada em uma representação de menor dimensão e depois reconstruindo a saída a partir dessa representação.\n",
    "\n",
    "Cada método tem suas peculiaridades e escolher o mais adequado depende das características dos dados e dos objetivos específicos da análise ou modelagem que está sendo realizada.\n",
    "\n",
    "\n",
    "## O Que é Análise Fatorial?\n",
    "\n",
    "A Análise Fatorial é uma técnica estatística usada para reduzir a dimensionalidade dos dados enquanto tenta manter o máximo possível da informação original. Essencialmente, essa técnica identifica um conjunto menor de variáveis, chamadas fatores, que são combinações lineares das variáveis originais. Esses fatores capturam a maior parte da variância presente no conjunto de dados original.\n",
    "\n",
    "Em um contexto mais técnico, a análise fatorial procura explicar as correlações entre as variáveis observadas em termos de um número menor de variáveis não observadas. Essas variáveis não observadas são os fatores, que podem ser interpretados como dimensões que não são diretamente medidos pelos dados.\n",
    "\n",
    "Por exemplo, em pesquisas de psicologia, muitas variáveis observadas como testes de personalidade podem ser explicadas por um número menor de fatores como \"extroversão\" ou \"neuroticismo\". A análise fatorial ajuda a simplificar a análise dessas variáveis ao reduzir o número de dimensões a serem consideradas, tornando a interpretação dos dados mais clara e focada.\n",
    "\n",
    "Além de ajudar na interpretação, a redução da dimensionalidade através da análise fatorial também pode ser útil para evitar problemas como a multicolinearidade em modelos de regressão e para facilitar outros tipos de análises estatísticas que são sensíveis à alta dimensionalidade.\n",
    "\n",
    "\n",
    "## Exploratory Factor Analysis (EFA)\n",
    "A análise fatorial exploratória (Exploratory Factor Analysis (EFA)) é uma técnica estatística usada para identificar relações latentes entre conjuntos de variáveis observadas em um conjunto de dados. Em particular, a EFA procura modelar um grande conjunto de variáveis observadas como combinações lineares de algum conjunto menor de factores latentes não observados. A matriz de pesos, ou cargas fatoriais, gerada a partir de um modelo EFA descreve as relações entre cada variável e os fatores latentes.\n",
    "\n",
    "A análise fatorial confirmatória (Confirmatory Factor Analysis (CFA)), uma técnica intimamente associada, é usada para testar uma hipótese a priori sobre relações latentes entre conjuntos de variáveis observadas. Na CFA, o pesquisador especifica o padrão esperado de cargas fatoriais (e possivelmente outras restrições) e ajusta um modelo de acordo com esta especificação.\n",
    "\n",
    "Normalmente, um número de fatores (K) em um modelo EFA ou CFA é selecionado de modo que seja substancialmente menor que o número de variáveis. O modelo de análise fatorial pode ser estimado usando uma variedade de métodos de estimativa padrão, incluindo, entre outros, MINRES ou ML.\n",
    "\n",
    "As cargas fatoriais são semelhantes aos coeficientes de regressão padronizados e as variáveis com cargas mais altas em um determinado fator podem ser interpretadas como explicando uma proporção maior da variação nesse fator. No caso da EFA, as matrizes de carga fatorial são geralmente rotacionadas após o modelo de análise fatorial ser estimado, a fim de produzir uma estrutura mais simples e interpretável para identificar quais variáveis estão carregando um determinado fator.\n",
    "\n",
    "## Extraindo Insights Ocultos dos Fatores Latentes\n",
    "Os fatores latentes na análise fatorial referem-se a variáveis que não são diretamente observadas, mas são inferidas a partir das correlações entre as variáveis observadas. Esses fatores são considerados \"latentes\" porque representam características que explicam padrões de resposta nas variáveis observadas.\n",
    "\n",
    "Na prática, a análise fatorial assume que as variações nas variáveis observadas são devidas à influência desses fatores latentes. Cada variável observada é modelada como uma combinação linear de fatores latentes, além de um termo de erro único para cada variável. Os fatores são extraídos de modo a maximizar a variância explicada nas variáveis originais.\n",
    "\n",
    "Principais Aspectos dos Fatores Latentes\n",
    "\n",
    "* **Explicação da Covariância**: Os fatores latentes ajudam a explicar por que algumas variáveis observadas tendem a variar juntas. Eles fornecem uma estrutura que pode revelar como diferentes variáveis estão inter-relacionadas.\n",
    "* **Redução Dimensional**: Ao identificar fatores latentes, a análise fatorial reduz o número de variáveis de análise. Em vez de lidar com um grande número de variáveis observadas, pode-se trabalhar com um número menor de fatores que capturam a essência dos dados.\n",
    "* **Interpretação e Teoria**: Em muitos casos, especialmente em ciências sociais e psicologia, os fatores latentes correspondem a conceitos teóricos, como inteligência, ansiedade ou satisfação. Identificar e nomear esses fatores pode ajudar os pesquisadores a construir ou confirmar teorias sobre como essas características operam.\n",
    "\n",
    "## Processo de Extração e Rotação de Fatores\n",
    "Várias técnicas podem ser utilizadas para extrair fatores, incluindo o método dos componentes principais e a análise de fatores com máxima verossimilhança. Estes métodos determinam o número de fatores e a contribuição de cada fator para a explicação da variância nas variáveis observadas.\n",
    "\n",
    "Após a extração, os fatores podem ser rotacionados para facilitar a interpretação. A rotação pode ser ortogonal (mantendo os fatores como independentes) ou oblíqua (permitindo correlações entre os fatores). A rotação ajuda a alcançar uma \"estrutura simples\", onde cada fator tem um conjunto claro de variáveis com cargas altas, facilitando a interpretação.\n",
    "\n",
    "Na análise fatorial, a rotação de fatores é uma técnica matemática usada para facilitar a interpretação dos fatores latentes extraídos. Ela consiste em aplicar uma transformação matemática aos fatores iniciais para alcançar uma nova configuração que torne mais clara a relação entre os fatores e as variáveis observadas. Esta nova configuração é frequentemente mais simples e mais interpretável, realçando os padrões de carga que definem cada fator.\n",
    "\n",
    "## Fundamentos Matemáticos da Rotação de Fatores\n",
    "A rotação de fatores na análise fatorial é um processo matemático que visa simplificar a interpretação dos fatores latentes extraídos. Ela é realizada por meio de uma transformação linear aplicada à matriz de cargas fatoriais original, gerando uma nova configuração que facilita entender como os fatores estão relacionados às variáveis observadas.\n",
    "\n",
    "\n",
    "<u>Fundamentos Matemáticos da Rotação de Fatores</u>\n",
    "* **Cargas Fatoriais**: As cargas fatoriais são coeficientes que indicam a contribuição de cada variável observada para cada fator. Esses coeficientes são organizados em uma matriz A, onde cada coluna representa um fator e cada linha uma variável.\n",
    "* **Matriz de Cargas Fatoriais**: Se temos p variáveis e k fatores, a matriz de cargas fatoriais A é uma matriz de dimensão p x k.\n",
    "* **Transformação Linear**: A rotação de fatores envolve a aplicação de uma matriz de rotação R sobre a matriz de cargas fatoriais A. A matriz R é uma matriz quadrada de dimensão k x k que transforma o espaço dos fatores. A nova matriz de cargas fatoriais, A_rot, é calculada como:\n",
    "\n",
    "A_rot = A * R\n",
    "\n",
    "\n",
    "<u>Propriedades da Matriz de Rotação</u>\n",
    "\n",
    "* **Ortogonalidade**: Em uma rotação ortogonal, R deve ser uma matriz ortogonal, o que significa que R transposta * R = R * R transposta = I, onde I é a matriz identidade. Isso garante que os fatores rotacionados continuem sendo ortogonais (independentes) entre si.\n",
    "* **Oblíqua**: Em uma rotação oblíqua, R não precisa ser ortogonal, permitindo que os fatores rotacionados sejam correlacionados.\n",
    "\n",
    "\n",
    "<u>Objetivo da Rotação</u>\n",
    "\n",
    "O objetivo principal da rotação é alcançar uma \"estrutura simples\", onde cada fator possui altas cargas em algumas variáveis e baixas cargas em outras, tornando os fatores mais interpretáveis. A rotação busca maximizar a variância das cargas ao quadrado para cada fator, agrupando altas cargas em menos fatores. Isso ajuda a identificar mais claramente quais variáveis são mais fortemente associadas a quais fatores.\n",
    "\n",
    "\n",
    "<u>Tipos de Rotação</u>\n",
    "\n",
    "* **Ortogonal (exemplo: Varimax)**, que maximiza a soma das variações das cargas ao quadrado enquanto mantém a independência entre os fatores.\n",
    "* **Oblíqua (exemplos: Promax, Oblimin)**, que permite correlações entre fatores, adequando-se melhor a situações onde os fatores subjacentes são inter-relacionados.\n",
    "\n",
    "A escolha entre rotação ortogonal e oblíqua depende das características dos dados e das suposições teóricas sobre a inter-relação entre os fatores."
   ]
  },
  {
   "cell_type": "code",
   "execution_count": 2,
   "metadata": {},
   "outputs": [
    {
     "data": {
      "text/html": [
       "<div>\n",
       "<style scoped>\n",
       "    .dataframe tbody tr th:only-of-type {\n",
       "        vertical-align: middle;\n",
       "    }\n",
       "\n",
       "    .dataframe tbody tr th {\n",
       "        vertical-align: top;\n",
       "    }\n",
       "\n",
       "    .dataframe thead th {\n",
       "        text-align: right;\n",
       "    }\n",
       "</style>\n",
       "<table border=\"1\" class=\"dataframe\">\n",
       "  <thead>\n",
       "    <tr style=\"text-align: right;\">\n",
       "      <th></th>\n",
       "      <th>frequencia_compras</th>\n",
       "      <th>valor_medio</th>\n",
       "      <th>categoria_mais_comprada</th>\n",
       "      <th>tempo_loja</th>\n",
       "      <th>uso_app</th>\n",
       "    </tr>\n",
       "  </thead>\n",
       "  <tbody>\n",
       "    <tr>\n",
       "      <th>0</th>\n",
       "      <td>6</td>\n",
       "      <td>264.693919</td>\n",
       "      <td>1</td>\n",
       "      <td>10.741316</td>\n",
       "      <td>2</td>\n",
       "    </tr>\n",
       "    <tr>\n",
       "      <th>1</th>\n",
       "      <td>6</td>\n",
       "      <td>154.865295</td>\n",
       "      <td>2</td>\n",
       "      <td>54.727444</td>\n",
       "      <td>2</td>\n",
       "    </tr>\n",
       "    <tr>\n",
       "      <th>2</th>\n",
       "      <td>5</td>\n",
       "      <td>212.729267</td>\n",
       "      <td>4</td>\n",
       "      <td>9.244390</td>\n",
       "      <td>4</td>\n",
       "    </tr>\n",
       "    <tr>\n",
       "      <th>3</th>\n",
       "      <td>5</td>\n",
       "      <td>270.765917</td>\n",
       "      <td>3</td>\n",
       "      <td>11.176717</td>\n",
       "      <td>5</td>\n",
       "    </tr>\n",
       "    <tr>\n",
       "      <th>4</th>\n",
       "      <td>4</td>\n",
       "      <td>85.332091</td>\n",
       "      <td>2</td>\n",
       "      <td>17.059377</td>\n",
       "      <td>2</td>\n",
       "    </tr>\n",
       "  </tbody>\n",
       "</table>\n",
       "</div>"
      ],
      "text/plain": [
       "   frequencia_compras  valor_medio  categoria_mais_comprada  tempo_loja  \\\n",
       "0                   6   264.693919                        1   10.741316   \n",
       "1                   6   154.865295                        2   54.727444   \n",
       "2                   5   212.729267                        4    9.244390   \n",
       "3                   5   270.765917                        3   11.176717   \n",
       "4                   4    85.332091                        2   17.059377   \n",
       "\n",
       "   uso_app  \n",
       "0        2  \n",
       "1        2  \n",
       "2        4  \n",
       "3        5  \n",
       "4        2  "
      ]
     },
     "execution_count": 2,
     "metadata": {},
     "output_type": "execute_result"
    }
   ],
   "source": [
    "df = pd.read_csv(\"data/dataset.csv\")\n",
    "df.head()"
   ]
  },
  {
   "cell_type": "code",
   "execution_count": 3,
   "metadata": {},
   "outputs": [
    {
     "name": "stdout",
     "output_type": "stream",
     "text": [
      "<class 'pandas.core.frame.DataFrame'>\n",
      "RangeIndex: 500 entries, 0 to 499\n",
      "Data columns (total 5 columns):\n",
      " #   Column                   Non-Null Count  Dtype  \n",
      "---  ------                   --------------  -----  \n",
      " 0   frequencia_compras       500 non-null    int64  \n",
      " 1   valor_medio              500 non-null    float64\n",
      " 2   categoria_mais_comprada  500 non-null    int64  \n",
      " 3   tempo_loja               500 non-null    float64\n",
      " 4   uso_app                  500 non-null    int64  \n",
      "dtypes: float64(2), int64(3)\n",
      "memory usage: 19.7 KB\n"
     ]
    }
   ],
   "source": [
    "df.info()"
   ]
  },
  {
   "cell_type": "markdown",
   "metadata": {},
   "source": [
    "## Verificando a Adequação dos Dados com o Teste de Bartlett\n",
    "\n",
    "A função calculate_bartlett_sphericity() é frequentemente usada no contexto da Análise Fatorial para testar a hipótese de esfericidade de Bartlett. A esfericidade refere-se à adequação dos dados para a análise fatorial. Se os dados são perfeitamente esféricos, isso indica que a análise fatorial pode não ser adequada porque as variáveis não estão correlacionadas.\n",
    "\n",
    "Aqui está como interpretar o resultado dessa função:\n",
    "\n",
    "**Estatística de teste**: É uma quantificação de quanto os seus dados diferem da esfericidade. Valores maiores indicam que as variáveis têm correlações significativas entre si, tornando a análise fatorial potencialmente adequada.\n",
    "\n",
    "**Valor-p**: Como na maioria dos testes estatísticos, o valor-p ajuda a determinar a significância do teste. Um valor-p baixo (tipicamente menor que 0.05) rejeita a hipótese nula de esfericidade, indicando que as variáveis estão correlacionadas e a análise fatorial pode ser apropriada. Um valor-p alto sugere que os dados são próximos da esfericidade e que as variáveis não estão fortemente correlacionadas, o que pode tornar a análise fatorial menos adequada.\n",
    "\n",
    "Em resumo, para proceder com a análise fatorial:\n",
    "\n",
    "- Se o valor-p for menor que 0.05 (ou outro limiar de significância escolhido), isso indica que as variáveis estão suficientemente correlacionadas para que a análise fatorial seja considerada apropriada.\n",
    "- Se o valor-p for maior que 0.05, deve-se ter cautela ao proceder com a análise fatorial, pois as variáveis podem não estar suficientemente correlacionadas.\n",
    "\n",
    "Lembre-se, no entanto, que a decisão de prosseguir ou não com a análise fatorial não deve ser baseada apenas no teste de esfericidade de Bartlett. Outras considerações e testes, como o teste de Kaiser-Meyer-Olkin (KMO), também devem ser levados em conta ao avaliar a adequação da análise fatorial."
   ]
  },
  {
   "cell_type": "code",
   "execution_count": 4,
   "metadata": {},
   "outputs": [
    {
     "name": "stdout",
     "output_type": "stream",
     "text": [
      "Estatística do Teste: 2052.9294481847865 \n",
      "Valor-p: 0.0\n"
     ]
    }
   ],
   "source": [
    "chi_square_value, p_value = calculate_bartlett_sphericity(df)\n",
    "print(f'Estatística do Teste: {chi_square_value} \\nValor-p: {p_value}')"
   ]
  },
  {
   "cell_type": "markdown",
   "metadata": {},
   "source": [
    "> Se o valor-p for menor que 0,05, os dados são adequados para análise fatorial."
   ]
  },
  {
   "cell_type": "markdown",
   "metadata": {},
   "source": [
    "## Verificando a Adequação dos Dados com o Teste de Kaiser-Meyer-Olkin (KMO)\n",
    "\n",
    "O teste Kaiser-Meyer-Olkin (KMO) é outra medida de adequação para a Análise Fatorial (ou Análise de Componentes Principais). O teste KMO avalia a proporção de variação entre as variáveis observadas que pode ser atribuída a fatores subjacentes.\n",
    "\n",
    "A medida KMO é um valor que varia entre 0 e 1. Valores próximos a 1 indicam que as correlações parciais entre variáveis são pequenas em comparação com as correlações totais, sugerindo que a estrutura de fatores é forte e clara. Valores próximos a 0 sugerem o contrário.\n",
    "\n",
    "Aqui está como interpretar os valores de KMO:\n",
    "\n",
    "- Valor de KMO Menos de 0,50: Inadequado para a análise fatorial.\n",
    "\n",
    "- Valor de KMO entre 0,50 e 0,70: Mediocre. A análise fatorial pode não ser útil, mas ainda assim pode ser realizada.\n",
    "\n",
    "- Valor de KMO entre 0,70 e 0,80: Bom. Isso sugere que a análise fatorial deve ser útil com os dados.\n",
    "\n",
    "- Valor de KMO entre 0,80 e 0,90: Ótimo. Indica que a estrutura fatorial dos dados é forte.\n",
    "\n",
    "- Valor de KMO acima de 0,90: Excelente. Uma excelente indicação para a análise fatorial.\n",
    "\n",
    "Além da medida global de KMO, muitas implementações do teste KMO também fornecem medidas individuais de KMO para cada variável. Variáveis individuais com valores de KMO abaixo de 0,50 podem ser consideradas para exclusão da análise, pois elas não estão bem correlacionadas com as outras variáveis."
   ]
  },
  {
   "cell_type": "code",
   "execution_count": 5,
   "metadata": {},
   "outputs": [
    {
     "name": "stdout",
     "output_type": "stream",
     "text": [
      "KMO Global: 0.9119977905988941\n",
      "KMO Por Variável: [0.91498647 0.91967945 0.90208801 0.91444814 0.90950008]\n"
     ]
    }
   ],
   "source": [
    "kmo_all, kmo_model = calculate_kmo(df)\n",
    "\n",
    "print(f'KMO Global: {kmo_model}')\n",
    "print(f'KMO Por Variável: {kmo_all}')"
   ]
  },
  {
   "cell_type": "markdown",
   "metadata": {},
   "source": [
    "> Se o valor KMO geral for maior que 0,6, a análise fatorial pode ser útil."
   ]
  },
  {
   "cell_type": "markdown",
   "metadata": {},
   "source": [
    "## Análise Fatorial\n",
    "\n",
    "Quando você utiliza a FactorAnalyzer para realizar uma Análise Fatorial, você está tentando identificar fatores latentes (não observados diretamente) que podem explicar a variação e covariação entre as variáveis observadas em seu conjunto de dados."
   ]
  },
  {
   "cell_type": "code",
   "execution_count": 6,
   "metadata": {},
   "outputs": [
    {
     "data": {
      "text/html": [
       "<style>#sk-container-id-1 {color: black;}#sk-container-id-1 pre{padding: 0;}#sk-container-id-1 div.sk-toggleable {background-color: white;}#sk-container-id-1 label.sk-toggleable__label {cursor: pointer;display: block;width: 100%;margin-bottom: 0;padding: 0.3em;box-sizing: border-box;text-align: center;}#sk-container-id-1 label.sk-toggleable__label-arrow:before {content: \"▸\";float: left;margin-right: 0.25em;color: #696969;}#sk-container-id-1 label.sk-toggleable__label-arrow:hover:before {color: black;}#sk-container-id-1 div.sk-estimator:hover label.sk-toggleable__label-arrow:before {color: black;}#sk-container-id-1 div.sk-toggleable__content {max-height: 0;max-width: 0;overflow: hidden;text-align: left;background-color: #f0f8ff;}#sk-container-id-1 div.sk-toggleable__content pre {margin: 0.2em;color: black;border-radius: 0.25em;background-color: #f0f8ff;}#sk-container-id-1 input.sk-toggleable__control:checked~div.sk-toggleable__content {max-height: 200px;max-width: 100%;overflow: auto;}#sk-container-id-1 input.sk-toggleable__control:checked~label.sk-toggleable__label-arrow:before {content: \"▾\";}#sk-container-id-1 div.sk-estimator input.sk-toggleable__control:checked~label.sk-toggleable__label {background-color: #d4ebff;}#sk-container-id-1 div.sk-label input.sk-toggleable__control:checked~label.sk-toggleable__label {background-color: #d4ebff;}#sk-container-id-1 input.sk-hidden--visually {border: 0;clip: rect(1px 1px 1px 1px);clip: rect(1px, 1px, 1px, 1px);height: 1px;margin: -1px;overflow: hidden;padding: 0;position: absolute;width: 1px;}#sk-container-id-1 div.sk-estimator {font-family: monospace;background-color: #f0f8ff;border: 1px dotted black;border-radius: 0.25em;box-sizing: border-box;margin-bottom: 0.5em;}#sk-container-id-1 div.sk-estimator:hover {background-color: #d4ebff;}#sk-container-id-1 div.sk-parallel-item::after {content: \"\";width: 100%;border-bottom: 1px solid gray;flex-grow: 1;}#sk-container-id-1 div.sk-label:hover label.sk-toggleable__label {background-color: #d4ebff;}#sk-container-id-1 div.sk-serial::before {content: \"\";position: absolute;border-left: 1px solid gray;box-sizing: border-box;top: 0;bottom: 0;left: 50%;z-index: 0;}#sk-container-id-1 div.sk-serial {display: flex;flex-direction: column;align-items: center;background-color: white;padding-right: 0.2em;padding-left: 0.2em;position: relative;}#sk-container-id-1 div.sk-item {position: relative;z-index: 1;}#sk-container-id-1 div.sk-parallel {display: flex;align-items: stretch;justify-content: center;background-color: white;position: relative;}#sk-container-id-1 div.sk-item::before, #sk-container-id-1 div.sk-parallel-item::before {content: \"\";position: absolute;border-left: 1px solid gray;box-sizing: border-box;top: 0;bottom: 0;left: 50%;z-index: -1;}#sk-container-id-1 div.sk-parallel-item {display: flex;flex-direction: column;z-index: 1;position: relative;background-color: white;}#sk-container-id-1 div.sk-parallel-item:first-child::after {align-self: flex-end;width: 50%;}#sk-container-id-1 div.sk-parallel-item:last-child::after {align-self: flex-start;width: 50%;}#sk-container-id-1 div.sk-parallel-item:only-child::after {width: 0;}#sk-container-id-1 div.sk-dashed-wrapped {border: 1px dashed gray;margin: 0 0.4em 0.5em 0.4em;box-sizing: border-box;padding-bottom: 0.4em;background-color: white;}#sk-container-id-1 div.sk-label label {font-family: monospace;font-weight: bold;display: inline-block;line-height: 1.2em;}#sk-container-id-1 div.sk-label-container {text-align: center;}#sk-container-id-1 div.sk-container {/* jupyter's `normalize.less` sets `[hidden] { display: none; }` but bootstrap.min.css set `[hidden] { display: none !important; }` so we also need the `!important` here to be able to override the default hidden behavior on the sphinx rendered scikit-learn.org. See: https://github.com/scikit-learn/scikit-learn/issues/21755 */display: inline-block !important;position: relative;}#sk-container-id-1 div.sk-text-repr-fallback {display: none;}</style><div id=\"sk-container-id-1\" class=\"sk-top-container\"><div class=\"sk-text-repr-fallback\"><pre>FactorAnalyzer(rotation=&#x27;varimax&#x27;, rotation_kwargs={})</pre><b>In a Jupyter environment, please rerun this cell to show the HTML representation or trust the notebook. <br />On GitHub, the HTML representation is unable to render, please try loading this page with nbviewer.org.</b></div><div class=\"sk-container\" hidden><div class=\"sk-item\"><div class=\"sk-estimator sk-toggleable\"><input class=\"sk-toggleable__control sk-hidden--visually\" id=\"sk-estimator-id-1\" type=\"checkbox\" checked><label for=\"sk-estimator-id-1\" class=\"sk-toggleable__label sk-toggleable__label-arrow\">FactorAnalyzer</label><div class=\"sk-toggleable__content\"><pre>FactorAnalyzer(rotation=&#x27;varimax&#x27;, rotation_kwargs={})</pre></div></div></div></div></div>"
      ],
      "text/plain": [
       "FactorAnalyzer(rotation='varimax', rotation_kwargs={})"
      ]
     },
     "execution_count": 6,
     "metadata": {},
     "output_type": "execute_result"
    }
   ],
   "source": [
    "fa = FactorAnalyzer(rotation = \"varimax\")\n",
    "fa.fit(df)"
   ]
  },
  {
   "cell_type": "markdown",
   "metadata": {},
   "source": [
    "> Baseado no gráfico de cotovelo, podemos escolher o número de fatores onde o valor começa a se estabilizar."
   ]
  },
  {
   "cell_type": "code",
   "execution_count": 8,
   "metadata": {},
   "outputs": [
    {
     "data": {
      "image/png": "[encoded data removed]",
      "text/plain": [
       "<Figure size 640x480 with 1 Axes>"
      ]
     },
     "metadata": {},
     "output_type": "display_data"
    }
   ],
   "source": [
    "# Verificando os autovalores\n",
    "eigen_values, vectors = fa.get_eigenvalues()\n",
    "plt.scatter(range(1, df.shape[1]+1), eigen_values)\n",
    "plt.plot(range(1, df.shape[1]+1), eigen_values)\n",
    "plt.title('Gráfico de Cotovelo')\n",
    "plt.xlabel('Fatores')\n",
    "plt.ylabel('Autovalor')\n",
    "plt.grid()\n",
    "plt.show()"
   ]
  },
  {
   "cell_type": "code",
   "execution_count": 10,
   "metadata": {},
   "outputs": [
    {
     "data": {
      "text/html": [
       "<style>#sk-container-id-2 {color: black;}#sk-container-id-2 pre{padding: 0;}#sk-container-id-2 div.sk-toggleable {background-color: white;}#sk-container-id-2 label.sk-toggleable__label {cursor: pointer;display: block;width: 100%;margin-bottom: 0;padding: 0.3em;box-sizing: border-box;text-align: center;}#sk-container-id-2 label.sk-toggleable__label-arrow:before {content: \"▸\";float: left;margin-right: 0.25em;color: #696969;}#sk-container-id-2 label.sk-toggleable__label-arrow:hover:before {color: black;}#sk-container-id-2 div.sk-estimator:hover label.sk-toggleable__label-arrow:before {color: black;}#sk-container-id-2 div.sk-toggleable__content {max-height: 0;max-width: 0;overflow: hidden;text-align: left;background-color: #f0f8ff;}#sk-container-id-2 div.sk-toggleable__content pre {margin: 0.2em;color: black;border-radius: 0.25em;background-color: #f0f8ff;}#sk-container-id-2 input.sk-toggleable__control:checked~div.sk-toggleable__content {max-height: 200px;max-width: 100%;overflow: auto;}#sk-container-id-2 input.sk-toggleable__control:checked~label.sk-toggleable__label-arrow:before {content: \"▾\";}#sk-container-id-2 div.sk-estimator input.sk-toggleable__control:checked~label.sk-toggleable__label {background-color: #d4ebff;}#sk-container-id-2 div.sk-label input.sk-toggleable__control:checked~label.sk-toggleable__label {background-color: #d4ebff;}#sk-container-id-2 input.sk-hidden--visually {border: 0;clip: rect(1px 1px 1px 1px);clip: rect(1px, 1px, 1px, 1px);height: 1px;margin: -1px;overflow: hidden;padding: 0;position: absolute;width: 1px;}#sk-container-id-2 div.sk-estimator {font-family: monospace;background-color: #f0f8ff;border: 1px dotted black;border-radius: 0.25em;box-sizing: border-box;margin-bottom: 0.5em;}#sk-container-id-2 div.sk-estimator:hover {background-color: #d4ebff;}#sk-container-id-2 div.sk-parallel-item::after {content: \"\";width: 100%;border-bottom: 1px solid gray;flex-grow: 1;}#sk-container-id-2 div.sk-label:hover label.sk-toggleable__label {background-color: #d4ebff;}#sk-container-id-2 div.sk-serial::before {content: \"\";position: absolute;border-left: 1px solid gray;box-sizing: border-box;top: 0;bottom: 0;left: 50%;z-index: 0;}#sk-container-id-2 div.sk-serial {display: flex;flex-direction: column;align-items: center;background-color: white;padding-right: 0.2em;padding-left: 0.2em;position: relative;}#sk-container-id-2 div.sk-item {position: relative;z-index: 1;}#sk-container-id-2 div.sk-parallel {display: flex;align-items: stretch;justify-content: center;background-color: white;position: relative;}#sk-container-id-2 div.sk-item::before, #sk-container-id-2 div.sk-parallel-item::before {content: \"\";position: absolute;border-left: 1px solid gray;box-sizing: border-box;top: 0;bottom: 0;left: 50%;z-index: -1;}#sk-container-id-2 div.sk-parallel-item {display: flex;flex-direction: column;z-index: 1;position: relative;background-color: white;}#sk-container-id-2 div.sk-parallel-item:first-child::after {align-self: flex-end;width: 50%;}#sk-container-id-2 div.sk-parallel-item:last-child::after {align-self: flex-start;width: 50%;}#sk-container-id-2 div.sk-parallel-item:only-child::after {width: 0;}#sk-container-id-2 div.sk-dashed-wrapped {border: 1px dashed gray;margin: 0 0.4em 0.5em 0.4em;box-sizing: border-box;padding-bottom: 0.4em;background-color: white;}#sk-container-id-2 div.sk-label label {font-family: monospace;font-weight: bold;display: inline-block;line-height: 1.2em;}#sk-container-id-2 div.sk-label-container {text-align: center;}#sk-container-id-2 div.sk-container {/* jupyter's `normalize.less` sets `[hidden] { display: none; }` but bootstrap.min.css set `[hidden] { display: none !important; }` so we also need the `!important` here to be able to override the default hidden behavior on the sphinx rendered scikit-learn.org. See: https://github.com/scikit-learn/scikit-learn/issues/21755 */display: inline-block !important;position: relative;}#sk-container-id-2 div.sk-text-repr-fallback {display: none;}</style><div id=\"sk-container-id-2\" class=\"sk-top-container\"><div class=\"sk-text-repr-fallback\"><pre>FactorAnalyzer(n_factors=2, rotation=&#x27;varimax&#x27;, rotation_kwargs={})</pre><b>In a Jupyter environment, please rerun this cell to show the HTML representation or trust the notebook. <br />On GitHub, the HTML representation is unable to render, please try loading this page with nbviewer.org.</b></div><div class=\"sk-container\" hidden><div class=\"sk-item\"><div class=\"sk-estimator sk-toggleable\"><input class=\"sk-toggleable__control sk-hidden--visually\" id=\"sk-estimator-id-2\" type=\"checkbox\" checked><label for=\"sk-estimator-id-2\" class=\"sk-toggleable__label sk-toggleable__label-arrow\">FactorAnalyzer</label><div class=\"sk-toggleable__content\"><pre>FactorAnalyzer(n_factors=2, rotation=&#x27;varimax&#x27;, rotation_kwargs={})</pre></div></div></div></div></div>"
      ],
      "text/plain": [
       "FactorAnalyzer(n_factors=2, rotation='varimax', rotation_kwargs={})"
      ]
     },
     "execution_count": 10,
     "metadata": {},
     "output_type": "execute_result"
    }
   ],
   "source": [
    "import random\n",
    "random.seed(1)\n",
    "\n",
    "fa = FactorAnalyzer(n_factors = 2, rotation = \"varimax\")\n",
    "fa.fit(df)"
   ]
  },
  {
   "cell_type": "code",
   "execution_count": 11,
   "metadata": {},
   "outputs": [
    {
     "name": "stdout",
     "output_type": "stream",
     "text": [
      "[[0.77025527 0.3985401 ]\n",
      " [0.73479724 0.4260281 ]\n",
      " [0.53652225 0.84092422]\n",
      " [0.74905294 0.42623636]\n",
      " [0.7418765  0.44453942]]\n"
     ]
    }
   ],
   "source": [
    "# Verificando a carga fatorial\n",
    "loadings = fa.loadings_\n",
    "print(loadings)"
   ]
  },
  {
   "cell_type": "code",
   "execution_count": 12,
   "metadata": {},
   "outputs": [
    {
     "data": {
      "text/plain": [
       "array([0.7521274 , 0.72142692, 0.99500967, 0.74275775, 0.74799604])"
      ]
     },
     "execution_count": 12,
     "metadata": {},
     "output_type": "execute_result"
    }
   ],
   "source": [
    "# Comunalidades \n",
    "fa.get_communalities()"
   ]
  },
  {
   "cell_type": "markdown",
   "metadata": {},
   "source": [
    "Vamos analisar a saída e interpretá-la passo a passo:\n",
    "\n",
    "**Cargas Fatoriais (Factor Loadings):**\n",
    "\n",
    "Após treinar o analisador (fa.fit(df_dsa)), você pode obter as cargas fatoriais com fa.loadings_. As cargas fatoriais indicam a relação linear entre cada variável e o fator. Uma carga fatorial alta (em valor absoluto) indica que a variável está fortemente relacionada com o fator. O sinal da carga fatorial indica a direção da relação.\n",
    "\n",
    "**Valores Próprios (Eigenvalues):**\n",
    "\n",
    "Você pode verificar os valores próprios com fa.eigenvalues_. Eles representam a quantidade de variação explicada por cada fator. Comumente, um critério chamado \"critério de Kaiser\" é usado, onde apenas fatores com valores próprios próximos de 1 são considerados significativos. No entanto, essa é apenas uma heurística e outras técnicas, como a análise do gráfico de cotovelo, também podem ser usadas.\n",
    "\n",
    "**Variação Explicada:**\n",
    "\n",
    "Isso indica a proporção da variação total nos dados que é explicada pelos fatores extraídos. Geralmente, em análises fatoriais, buscamos um conjunto menor de fatores que ainda capture uma boa proporção da variação total nos dados.\n",
    "\n",
    "**Rotação:**\n",
    "\n",
    "A rotação é uma técnica usada para tornar a saída da análise fatorial mais interpretável. A rotação Varimax tenta maximizar a variação das cargas fatoriais, tornando algumas cargas fatoriais o mais próximo possível de 0 e outras o mais próximo possível de 1 ou -1. Isso torna mais fácil identificar quais variáveis estão associadas a quais fatores.\n",
    "\n",
    "**Scores Fatoriais:**\n",
    "\n",
    "Após treinar o analisador, você pode usar fa.transform(df) para obter os scores fatoriais para cada observação em seu conjunto de dados. Os scores fatoriais representam a pontuação de cada observação em cada fator.\n",
    "\n",
    "**Comunalidades (Communalities):**\n",
    "\n",
    "As comunalidades, que podem ser acessadas com fa.get_communalities(), representam a proporção da variação em cada variável que é explicada pelos fatores. Um valor próximo de 1 indica que a variável é bem explicada pelos fatores, enquanto um valor próximo de 0 indica o contrário."
   ]
  },
  {
   "cell_type": "code",
   "execution_count": 13,
   "metadata": {},
   "outputs": [
    {
     "name": "stdout",
     "output_type": "stream",
     "text": [
      "[[0.77025527 0.3985401 ]\n",
      " [0.73479724 0.4260281 ]\n",
      " [0.53652225 0.84092422]\n",
      " [0.74905294 0.42623636]\n",
      " [0.7418765  0.44453942]]\n"
     ]
    }
   ],
   "source": [
    "# Verificando a carga fatorial\n",
    "loadings = fa.loadings_\n",
    "print(loadings)"
   ]
  },
  {
   "cell_type": "code",
   "execution_count": 14,
   "metadata": {},
   "outputs": [
    {
     "data": {
      "text/plain": [
       "Index(['frequencia_compras', 'valor_medio', 'categoria_mais_comprada',\n",
       "       'tempo_loja', 'uso_app'],\n",
       "      dtype='object')"
      ]
     },
     "execution_count": 14,
     "metadata": {},
     "output_type": "execute_result"
    }
   ],
   "source": [
    "df.columns"
   ]
  },
  {
   "cell_type": "code",
   "execution_count": 20,
   "metadata": {},
   "outputs": [
    {
     "name": "stdout",
     "output_type": "stream",
     "text": [
      "Na coluna frequencia_compras o valor é [0.77025527 0.3985401 ]\n",
      "Na coluna valor_medio o valor é [0.73479724 0.4260281 ]\n",
      "Na coluna categoria_mais_comprada o valor é [0.53652225 0.84092422]\n",
      "Na coluna tempo_loja o valor é [0.74905294 0.42623636]\n",
      "Na coluna uso_app o valor é [0.7418765  0.44453942]\n"
     ]
    }
   ],
   "source": [
    "for v, i in enumerate(df.columns):\n",
    "    coluna = df.columns.to_list()[v]\n",
    "    valor = loadings[v]\n",
    "    print(f\"Na coluna {coluna} o valor é {valor}\")"
   ]
  },
  {
   "cell_type": "markdown",
   "metadata": {},
   "source": [
    "**Interpretação:**\n",
    "\n",
    "Fator 1 (F1): Este fator tem cargas fatoriais fortes para **frequencia_compras**, **valor_medio**, **tempo_loja** e **uso_app**, o que sugere que este fator pode estar relacionado ao \"envolvimento geral do cliente\" ou \"intensidade da relação do cliente com a loja\". Pode representar clientes que não apenas compram frequentemente, mas também passam mais tempo na loja, gastam o mesmo valor em média e usam o aplicativo com frequência.\n",
    "\n",
    "Fator 2 (F2): Este fator tem uma carga fatorial muito forte para **categoria_mais_comprada**, sugerindo que pode estar relacionado à \"lealdade do cliente a um tipo de produto ou marca\". Pode representar clientes que buscam produto ou marca específicos e não focam apenas no valor do produto.\n",
    "\n",
    "Lembre-se de que a interpretação dos fatores depende não apenas dos loadings, mas também do contexto do negócio e do conhecimento substancial do domínio. A interpretação acima é baseada estritamente nos valores da carga fatorial do nosso modelo e deve ser ajustada com base em informações adicionais sobre os clientes e a loja."
   ]
  },
  {
   "cell_type": "code",
   "execution_count": null,
   "metadata": {},
   "outputs": [],
   "source": []
  }
 ],
 "metadata": {
  "kernelspec": {
   "display_name": "Python 3",
   "language": "python",
   "name": "python3"
  },
  "language_info": {
   "codemirror_mode": {
    "name": "ipython",
    "version": 3
   },
   "file_extension": ".py",
   "mimetype": "text/x-python",
   "name": "python",
   "nbconvert_exporter": "python",
   "pygments_lexer": "ipython3",
   "version": "3.12.0"
  }
 },
 "nbformat": 4,
 "nbformat_minor": 2
}
