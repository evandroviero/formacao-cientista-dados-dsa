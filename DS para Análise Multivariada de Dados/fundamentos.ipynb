{
 "cells": [
  {
   "cell_type": "markdown",
   "metadata": {},
   "source": [
    "## Teste T² de Hotelling na Prática com Linguagem Python\n",
    "\n",
    "**Objetivo da Análise:**\n",
    "\n",
    "O estudo visa investigar se existem diferenças significativas nas características físicas (altura e peso) entre atletas de dois esportes diferentes. O Teste T² de Hotelling será utilizado para determinar se as médias multivariadas de altura e peso são significativamente diferentes entre os dois grupos de atletas.\n",
    "\n",
    "**Grupos de Estudo:**\n",
    "\n",
    "- Grupo 1: Atletas de basquete. Espera-se que sejam geralmente mais altos e mais pesados devido à natureza do esporte.\n",
    "- Grupo 2: Atletas de ginástica artística. Estes atletas tendem a ser mais leves e de estatura menor, características que são benéficas para o seu esporte.\n",
    "\n",
    "**Variáveis Dependentes:**\n",
    "\n",
    "- Altura (cm): Medida da altura dos atletas.\n",
    "- Peso (kg): Medida do peso dos atletas.\n",
    "\n",
    "**Geração de Dados Sintéticos:**\n",
    "\n",
    "Dados para os atletas de basquete (Grupo 1) e os atletas de ginástica artística (Grupo 2) serão gerados sinteticamente com distribuições multivariadas normais. As médias e covariâncias foram escolhidas para refletir as expectativas reais desses atletas em termos de altura e peso.\n",
    "\n",
    "**Aplicação do Teste T² de Hotelling:**\n",
    "\n",
    "O Teste T² de Hotelling é aplicado para comparar as médias de altura e peso entre os dois grupos de atletas. Este teste foi escolhido por sua capacidade de avaliar simultaneamente a diferença nas médias de duas variáveis dependentes (altura e peso), considerando a correlação entre elas.\n",
    "\n",
    "**Importância da Análise:**\n",
    "\n",
    "Este estudo pode fornecer informações valiosas sobre como diferentes esportes estão associados a diferentes características físicas. Esses insights podem ser úteis para treinadores e cientistas do esporte na identificação de talentos e no desenvolvimento de programas de treinamento específicos para cada esporte. Além disso, pode contribuir para a compreensão de como as demandas físicas de cada esporte moldam as características corporais dos atletas.\n",
    "\n",
    "**Definição das Hipóteses:**\n",
    "\n",
    "Hipótese Nula (H0)\n",
    "\n",
    "A hipótese nula em um teste estatístico é geralmente uma declaração de \"nenhuma diferença\" ou \"nenhum efeito\". No contexto deste estudo, a hipótese nula seria:\n",
    "\n",
    "H0: Não existem diferenças significativas nas médias multivariadas de altura e peso entre os atletas de basquete (Grupo 1) e os atletas de ginástica artística (Grupo 2). Isso significa que, sob a hipótese nula, qualquer diferença observada nas médias de altura e peso entre os dois grupos é atribuída ao acaso.\n",
    "\n",
    "Hipótese Alternativa (H1)\n",
    "\n",
    "A hipótese alternativa é o que você testa contra a hipótese nula. Normalmente, ela sugere que existe um efeito ou diferença. Para este estudo, a hipótese alternativa seria:\n",
    "\n",
    "H1: Existem diferenças significativas nas médias multivariadas de altura e peso entre os atletas de basquete (Grupo 1) e os atletas de ginástica artística (Grupo 2). Sob a hipótese alternativa, as diferenças observadas são suficientemente grandes para serem consideradas estatisticamente significativas e não devidas ao acaso.\n",
    "\n",
    "A aplicação do Teste T² de Hotelling permitirá avaliar essas hipóteses considerando tanto a altura quanto o peso simultaneamente, levando em conta a correlação entre estas duas variáveis."
   ]
  },
  {
   "cell_type": "code",
   "execution_count": 1,
   "metadata": {},
   "outputs": [],
   "source": [
    "import scipy\n",
    "import statsmodels\n",
    "import numpy as np\n",
    "import pandas as pd\n",
    "from statsmodels.multivariate.manova import MANOVA\n",
    "from scipy.stats import f\n",
    "from numpy.linalg import inv, det"
   ]
  },
  {
   "cell_type": "code",
   "execution_count": 2,
   "metadata": {},
   "outputs": [],
   "source": [
    "np.random.seed(0)\n",
    "\n",
    "grupo_1 = np.random.multivariate_normal([170, 60], [[10, 2], [2, 5]], 50)\n",
    "grupo_2 = np.random.multivariate_normal([175, 65], [[10, 2], [2, 5]], 50)"
   ]
  },
  {
   "cell_type": "code",
   "execution_count": 9,
   "metadata": {},
   "outputs": [
    {
     "data": {
      "text/plain": [
       "array([169.87756591,  60.18293836])"
      ]
     },
     "execution_count": 9,
     "metadata": {},
     "output_type": "execute_result"
    }
   ],
   "source": [
    "np.mean(grupo_1, axis=0)"
   ]
  },
  {
   "cell_type": "code",
   "execution_count": 10,
   "metadata": {},
   "outputs": [
    {
     "data": {
      "text/plain": [
       "array([174.93237839,  65.37779828])"
      ]
     },
     "execution_count": 10,
     "metadata": {},
     "output_type": "execute_result"
    }
   ],
   "source": [
    "np.mean(grupo_2, axis=0)"
   ]
  },
  {
   "cell_type": "markdown",
   "metadata": {},
   "source": [
    "A função abaixo implementa o teste T² de Hotelling, que é usado para comparar as médias de dois grupos multivariados. A função calcula primeiramente as médias e covariâncias para cada grupo, em seguida calcula a covariância agrupada e usa esses valores para calcular a estatística T² de Hotelling. Esta estatística é então convertida em uma estatística F, da qual o valor p é derivado. O valor p é usado para determinar se as diferenças entre as médias dos grupos são estatisticamente significativas."
   ]
  },
  {
   "cell_type": "code",
   "execution_count": 11,
   "metadata": {},
   "outputs": [],
   "source": [
    "def hotelling_t2_test(group1, group2):\n",
    "    # Calcula a média de cada variável no grupo 1\n",
    "    mean1 = np.mean(group1, axis = 0) \n",
    "    # Calcula a média de cada variável no grupo 2\n",
    "    mean2 = np.mean(group2, axis = 0)  \n",
    "    # Determina o número de observações em cada grupo\n",
    "    n1, n2 = len(group1), len(group2)  \n",
    "    # Calcula a matriz de covariância do grupo 1\n",
    "    cov1 = np.cov(group1.T)  \n",
    "    # Calcula a matriz de covariância do grupo 2\n",
    "    cov2 = np.cov(group2.T)  \n",
    "    # Calcula a covariância agrupada dos dois grupos\n",
    "    pooled_cov = ((n1 - 1) * cov1 + (n2 - 1) * cov2) / (n1 + n2 - 2)  \n",
    "    # Calcula a diferença das médias entre os dois grupos\n",
    "    mean_diff = mean1 - mean2  \n",
    "    # Calcula a estatística T² de Hotelling\n",
    "    t2_stat = n1 * n2 / (n1 + n2) * mean_diff.dot(inv(pooled_cov)).dot(mean_diff)  \n",
    "    # Determina os graus de liberdade para o numerador (número de variáveis)\n",
    "    df1 = len(mean1)  \n",
    "    # Determina os graus de liberdade para o denominador\n",
    "    df2 = n1 + n2 - df1 - 1  \n",
    "    # Converte a estatística T² em uma estatística F\n",
    "    f_stat = t2_stat * (df2 / (n1 + n2 - 2)) / df1  \n",
    "    # Calcula o valor p associado à estatística F\n",
    "    p_value = 1 - f.cdf(f_stat, df1, df2)  \n",
    "    # Retorna a estatística T² e o valor p\n",
    "    return t2_stat, p_value  "
   ]
  },
  {
   "cell_type": "code",
   "execution_count": 13,
   "metadata": {},
   "outputs": [
    {
     "name": "stdout",
     "output_type": "stream",
     "text": [
      "Estatística T²: 146.68909049022432\n",
      "Valor-p: 1.1102230246251565e-16\n"
     ]
    }
   ],
   "source": [
    "# Realizando o teste\n",
    "t2_stat, p_value = hotelling_t2_test(grupo_1, grupo_2)\n",
    "\n",
    "print(\"Estatística T²:\", t2_stat)\n",
    "print(\"Valor-p:\", p_value)"
   ]
  },
  {
   "cell_type": "code",
   "execution_count": 14,
   "metadata": {},
   "outputs": [
    {
     "data": {
      "text/plain": [
       "True"
      ]
     },
     "execution_count": 14,
     "metadata": {},
     "output_type": "execute_result"
    }
   ],
   "source": [
    "p_value < 0.05"
   ]
  },
  {
   "cell_type": "markdown",
   "metadata": {},
   "source": [
    "**Interpretação:**\n",
    "\n",
    "A estatística T² é uma medida da diferença entre as médias dos dois grupos. Um valor elevado indica uma diferença significativa entre as médias dos grupos testados.\n",
    "\n",
    "O valor-p é uma medida da probabilidade de obter um resultado extremo como o observado, assumindo que a hipótese nula (de que as médias dos grupos são iguais) é verdadeira.\n",
    "\n",
    "Um valor-p extremamente pequeno sugere que, se a hipótese nula fosse verdadeira, seria muito improvável obter uma diferença tão grande ou maior por acaso.\n",
    "\n",
    "O valor-p baixo (menor que 0.05) indica fortes evidências contra a hipótese nula e a favor da hipótese alternativa (que as médias são diferentes)."
   ]
  },
  {
   "cell_type": "markdown",
   "metadata": {},
   "source": [
    "### Análise de Variância Multivariada (MANOVA)\n",
    "\n",
    "\n",
    "A Análise de Variância Multivariada (MANOVA) é uma técnica estatística utilizada para analisar a diferença entre grupos em múltiplas variáveis dependentes simultaneamente. É uma extensão da Análise de Variância (ANOVA), que é usada para uma única variável dependente. A MANOVA é particularmente útil quando as variáveis dependentes estão correlacionadas e você deseja entender como diferentes variáveis independentes (ou grupos) afetam essas variáveis dependentes juntas.\n",
    "\n",
    "**Hipóteses**\n",
    "\n",
    "- Hipótese Nula (H0): As médias de todas as variáveis dependentes são iguais entre os grupos.\n",
    "- Hipótese Alternativa (H1): Pelo menos uma média de uma variável dependente difere entre os grupos.\n",
    "\n",
    "**Variáveis Dependentes e Independentes**\n",
    "\n",
    "- A MANOVA lida com duas ou mais variáveis dependentes.\n",
    "- Pode ter uma ou mais variáveis independentes (fatores), que são categóricas.\n",
    "\n",
    "**Correlação entre Variáveis Dependentes**\n",
    "\n",
    "Uma das principais razões para usar a MANOVA é que ela considera a correlação entre as variáveis dependentes, o que pode fornecer uma visão mais precisa do efeito das variáveis independentes.\n",
    "\n",
    "**Estatísticas de Teste**\n",
    "\n",
    "A MANOVA utiliza várias estatísticas de teste, como Wilks' Lambda, Pillai's Trace, Hotelling-Lawley Trace e Roy's Largest Root, cada uma com suas próprias características e condições de aplicabilidade.\n",
    "\n",
    "**Suposições do Teste**\n",
    "\n",
    "- Normalidade multivariada dos dados.\n",
    "- Homogeneidade das matrizes de covariância (variâncias são iguais entre os grupos).\n",
    "- Amostras independentes.\n",
    "\n",
    "**Interpretação**\n",
    "\n",
    "Um resultado significativo indica que há uma diferença nos conjuntos de médias das variáveis dependentes entre os grupos. No entanto, análises adicionais, como testes post-hoc, podem ser necessárias para identificar exatamente onde estão essas diferenças. Veremos isso daqui a pouco em Python.\n",
    "\n",
    "**Aplicações da MANOVA**\n",
    "\n",
    "- Pesquisa em Ciências Sociais e Psicologia: Por exemplo, comparar efeitos de diferentes intervenções terapêuticas em vários aspectos do bem-estar psicológico.\n",
    "- Pesquisa em Biologia e Medicina: Como avaliar o efeito de um tratamento em múltiplos indicadores de saúde.\n",
    "- Pesquisa de Mercado: Avaliar a reação dos consumidores a diferentes características de um produto.\n",
    "\n",
    "A MANOVA é uma ferramenta poderosa para análise multivariada e é especialmente útil quando as variáveis dependentes estão relacionadas entre si, permitindo uma compreensão mais abrangente dos efeitos das variáveis independentes."
   ]
  },
  {
   "cell_type": "markdown",
   "metadata": {},
   "source": [
    "## Análise de Variância Multivariada (MANOVA) na Prática com Linguagem Python\n",
    "\n",
    "Vamos avaliar se existem diferenças significativas entre três grupos (A, B e C) em relação a um conjunto de variáveis dependentes (neste caso, DV1 e DV2). A MANOVA é particularmente útil aqui, pois estamos lidando com mais de uma variável dependente e queremos entender se o efeito dos grupos se estende além de uma única variável de resultado.\n",
    "\n",
    "**Objetivo da Análise:**\n",
    "\n",
    "Avaliar a eficácia de diferentes métodos de ensino no desempenho acadêmico dos alunos. O estudo foca em dois aspectos principais do desempenho acadêmico: compreensão de conceitos (DV1) e habilidades práticas (DV2).\n",
    "\n",
    "**Grupos de Estudo:**\n",
    "\n",
    "- Grupo A: Alunos que receberam ensino tradicional, baseado em palestras e anotações.\n",
    "- Grupo B: Alunos que foram ensinados por meio de métodos de aprendizagem baseados em projetos, com foco em experiências práticas.\n",
    "- Grupo C: Alunos que participaram de aulas interativas, com uso de tecnologia e aprendizagem colaborativa.\n",
    "\n",
    "**Variáveis Dependentes:**\n",
    "\n",
    "- DV1 (Compreensão de Conceitos): Medida por meio de um teste padronizado que avalia a compreensão dos alunos sobre os conceitos teóricos ensinados em sala de aula.\n",
    "- DV2 (Habilidades Práticas): Avaliada por meio de projetos práticos ou experimentos em laboratório, onde os alunos demonstram a aplicação prática de seus conhecimentos.\n",
    "\n",
    "**Importância da MANOVA:**\n",
    "\n",
    "A MANOVA será usada para analisar se existem diferenças estatisticamente significativas no desempenho dos alunos (tanto em termos de compreensão de conceitos quanto de habilidades práticas) entre os três grupos que experimentaram diferentes métodos de ensino. Essa abordagem é particularmente útil porque permite avaliar o impacto dos métodos de ensino em múltiplas dimensões do desempenho acadêmico simultaneamente, considerando também a possível correlação entre a compreensão teórica e as habilidades práticas."
   ]
  },
  {
   "cell_type": "code",
   "execution_count": null,
   "metadata": {},
   "outputs": [],
   "source": [
    "# Gera dados sintéticos\n",
    "np.random.seed(0)\n",
    "group = np.repeat(['A', 'B', 'C'], 20)  # Três grupos\n",
    "data1 = np.random.normal(0, 1, 60) + (group == 'B') * 1 + (group == 'C') * 2  # Variável dependente 1\n",
    "data2 = np.random.normal(0, 1, 60) + (group == 'B') * 1.5 + (group == 'C') * -1  # Variável dependente 2\n",
    "df_dsa = pd.DataFrame({'Grupo': group, 'DV1': data1, 'DV2': data2})\n",
    "df_dsa.head()"
   ]
  },
  {
   "cell_type": "code",
   "execution_count": null,
   "metadata": {},
   "outputs": [],
   "source": [
    "df_dsa.DV1.mean()"
   ]
  },
  {
   "cell_type": "code",
   "execution_count": null,
   "metadata": {},
   "outputs": [],
   "source": [
    "df_dsa.DV2.mean()"
   ]
  }
 ],
 "metadata": {
  "kernelspec": {
   "display_name": "Python 3",
   "language": "python",
   "name": "python3"
  },
  "language_info": {
   "codemirror_mode": {
    "name": "ipython",
    "version": 3
   },
   "file_extension": ".py",
   "mimetype": "text/x-python",
   "name": "python",
   "nbconvert_exporter": "python",
   "pygments_lexer": "ipython3",
   "version": "3.12.0"
  }
 },
 "nbformat": 4,
 "nbformat_minor": 2
}
