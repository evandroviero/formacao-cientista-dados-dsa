{
 "cells": [
  {
   "cell_type": "code",
   "execution_count": null,
   "metadata": {},
   "outputs": [],
   "source": [
    "import sklearn\n",
    "import scipy\n",
    "import pandas as pd\n",
    "import numpy as np\n",
    "import matplotlib.pyplot as plt\n",
    "import seaborn as sns\n",
    "import missingno as msno\n",
    "from scipy.stats import shapiro\n",
    "from scipy.stats import mannwhitneyu\n",
    "from sklearn.impute import KNNImputer\n",
    "from sklearn.preprocessing import StandardScaler\n",
    "from sklearn.ensemble import RandomForestClassifier\n",
    "from datetime import datetime\n",
    "import warnings\n",
    "warnings.filterwarnings('ignore')"
   ]
  },
  {
   "cell_type": "markdown",
   "metadata": {},
   "source": [
    "Este é o dicionário de dados para o dataset do Projeto 1:\n",
    "1. **ID**: Identificador único do cliente.\n",
    "2. **Ano_Nascimento**: Ano de nascimento do cliente.\n",
    "3. **Educacao**: Nível de educação do cliente (ex.: Graduação, PhD).\n",
    "4. **Estado_Civil**: Estado civil do cliente (ex.: Casado, Solteiro).\n",
    "5. **Renda**: Renda anual do cliente em reais.\n",
    "6. **Criancas_Em_Casa**: Número de crianças pequenas na casa do cliente.\n",
    "7. **Adolescentes_Em_Casa**: Número de adolescentes na casa do cliente.\n",
    "8. **Data_Cadastro_Cliente**: Data em que o cliente foi cadastrado na empresa.\n",
    "9. **Gasto_Vinhos**: Total gasto em vinhos no último ano.\n",
    "10. **Gasto_Frutas**: Total gasto em frutas no último ano.\n",
    "11. **Gasto_Carnes**: Total gasto em carnes no último ano.\n",
    "12. **Gasto_Peixes**: Total gasto em peixes no último ano.\n",
    "13. **Gasto_Doces**: Total gasto em doces no último ano.\n",
    "14. **Gasto_Outros**: Total gasto em outros produtos no último ano.\n",
    "15. **Num_Compras_Desconto**: Número de compras feitas com desconto.\n",
    "16. **Num_Compras_Web**: Número de compras feitas através da web.\n",
    "17. **Num_Compras_Catalogo**: Número de compras feitas usando um catálogo.\n",
    "18. **Num_Compras_Loja**: Número de compras feitas diretamente na loja.\n",
    "19. **Num_Visitas_Web_Mes**: Número de visitas ao site da empresa por mês.\n",
    "20. **Aceitou_Campanha_1**: Indica se o cliente aceitou a oferta na primeira campanha (0 = Não, 1 = Sim)\n",
    "21. **Aceitou_Campanha_2**: Indica se o cliente aceitou a oferta na segunda campanha (0 = Não, 1 = Sim).\n",
    "22. **Aceitou_Campanha_3**: Indica se o cliente aceitou a oferta na terceira campanha (0 = Não, 1 = Sim).\n",
    "23. **Aceitou_Campanha_4**: Indica se o cliente aceitou a oferta na quarta campanha (0 = Não, 1 = Sim).\n",
    "24. **Aceitou_Campanha_5**: Indica se o cliente aceitou a oferta na quinta campanha (0 = Não, 1 = Sim).\n",
    "25. **Aceitou_Campanha_6**: Indica se o cliente aceitou a oferta na sexta campanha (0 = Não, 1 = Sim)\n",
    "\n"
   ]
  },
  {
   "cell_type": "code",
   "execution_count": null,
   "metadata": {},
   "outputs": [],
   "source": [
    "archive = 'data/dataset.csv'\n",
    "\n",
    "df = pd.read_csv(archive)\n",
    "df.head()"
   ]
  },
  {
   "cell_type": "code",
   "execution_count": null,
   "metadata": {},
   "outputs": [],
   "source": [
    "df.info()"
   ]
  },
  {
   "cell_type": "code",
   "execution_count": null,
   "metadata": {},
   "outputs": [],
   "source": [
    "df.columns"
   ]
  },
  {
   "cell_type": "markdown",
   "metadata": {},
   "source": [
    "## Limpeza e processamento inicial dos dados"
   ]
  },
  {
   "cell_type": "code",
   "execution_count": null,
   "metadata": {},
   "outputs": [],
   "source": [
    "df.columns = df.columns.str.replace(' ', '') \n",
    "df.columns = [x.lower() for x in df.columns]\n",
    "\n",
    "df['renda'] = df['renda'].replace('[\\$,]', '', regex=True).astype(float)\n",
    "df['data_cadastro_cliente'] = pd.to_datetime(df['data_cadastro_cliente']) \n",
    "\n",
    "# df['aceitou_campanha_1'] = df['aceitou_campanha_1'].astype('category')\n",
    "# df['aceitou_campanha_2'] = df['aceitou_campanha_2'].astype('category')\n",
    "# df['aceitou_campanha_3'] = df['aceitou_campanha_3'].astype('category')\n",
    "# df['aceitou_campanha_4'] = df['aceitou_campanha_4'].astype('category')\n",
    "# df['aceitou_campanha_5'] = df['aceitou_campanha_5'].astype('category')\n",
    "# df['aceitou_campanha_6'] = df['aceitou_campanha_6'].astype('category')"
   ]
  },
  {
   "cell_type": "code",
   "execution_count": null,
   "metadata": {},
   "outputs": [],
   "source": [
    "df.head()"
   ]
  },
  {
   "cell_type": "code",
   "execution_count": null,
   "metadata": {},
   "outputs": [],
   "source": [
    "df.info()"
   ]
  },
  {
   "cell_type": "code",
   "execution_count": null,
   "metadata": {},
   "outputs": [],
   "source": [
    "plt.figure(figsize = (10, 6))\n",
    "sns.boxplot(df['renda'])\n",
    "plt.title('Boxplot da Renda')\n",
    "plt.xlabel('Renda')\n",
    "plt.ylabel('Renda')\n",
    "plt.show()"
   ]
  },
  {
   "cell_type": "code",
   "execution_count": null,
   "metadata": {},
   "outputs": [],
   "source": [
    "Q1 = df['renda'].quantile(0.25)\n",
    "Q3 = df['renda'].quantile(0.75)\n",
    "IQR = Q3 - Q1\n",
    "\n",
    "\n",
    "lower_bound = Q1 - 1.5 * IQR\n",
    "upper_bound = Q3 + 1.5 * IQR\n",
    "\n",
    "print(f'O valor {lower_bound} está abaixo do padrão')\n",
    "print(f'O valor {upper_bound} está acima do padrão')"
   ]
  },
  {
   "cell_type": "code",
   "execution_count": null,
   "metadata": {},
   "outputs": [],
   "source": [
    "plt.figure(figsize = (10, 6)) \n",
    "sns.displot(df['renda'], color = 'brown', kde=True)  \n",
    "plt.title('Distribuição de Renda', size = 16)  \n",
    "plt.xlabel('Renda')\n",
    "plt.ylabel('Contagem')\n",
    "plt.show()"
   ]
  },
  {
   "cell_type": "markdown",
   "metadata": {},
   "source": [
    "Existem várias estratégias para tratar outliers em um conjunto de dados e a escolha da melhor abordagem depende do contexto específico e do objetivo da análise. Aqui estão algumas opções comuns:\n",
    "\n",
    "**Remoção**: Simplesmente remover os outliers do conjunto de dados. Esta é uma abordagem direta, mas pode não ser ideal se o número de outliers for significativo ou se esses pontos contiverem informações importantes.\n",
    "\n",
    "**Substituição**: Substituir os valores dos outliers por outros mais representativos, como a média ou mediana dos dados. Esta abordagem é útil se os outliers forem considerados erros de medição ou entrada de dados.\n",
    "\n",
    "**Transformação**: Aplicar uma transformação aos dados pode reduzir o impacto dos outliers. Transformações comuns incluem logarítmica, raiz quadrada ou Box-Cox.\n",
    "\n",
    "**Capping (Limitação)**: Definir um limite superior e/ou inferior para os valores dos dados. Valores além desses limites são trazidos para o limite mais próximo. Por exemplo, todos os valores acima do limite superior são definidos para esse limite.\n",
    "\n",
    "**Análise Separada**: Às vezes, os outliers são mantidos no conjunto de dados e analisados separadamente para entender melhor suas características.\n",
    "\n",
    "**Análise de Causa**: Investigar a causa dos outliers. Se eles são resultado de um fenômeno real, pode ser importante incluí-los na análise.\n",
    "\n",
    "A escolha do método depende da natureza dos dados e do objetivo da análise. Em muitos casos, uma combinação dessas estratégias pode ser a mais eficaz. "
   ]
  },
  {
   "cell_type": "code",
   "execution_count": null,
   "metadata": {},
   "outputs": [],
   "source": [
    "df = df[(df['renda'] >= lower_bound) & (df['renda'] <= upper_bound)]"
   ]
  },
  {
   "cell_type": "code",
   "execution_count": null,
   "metadata": {},
   "outputs": [],
   "source": [
    "plt.figure(figsize = (10, 6))\n",
    "sns.boxplot(df['renda'])\n",
    "plt.title('Boxplot da Renda')\n",
    "plt.xlabel('Renda')\n",
    "plt.ylabel('Renda')\n",
    "plt.show()"
   ]
  },
  {
   "cell_type": "code",
   "execution_count": null,
   "metadata": {},
   "outputs": [],
   "source": [
    "plt.figure(figsize = (10, 6)) \n",
    "sns.histplot(df['renda'], color = 'brown', kde=True)  \n",
    "plt.title('Distribuição de Renda', size = 16)  \n",
    "plt.xlabel('Renda')\n",
    "plt.ylabel('Contagem')\n",
    "plt.show()"
   ]
  },
  {
   "cell_type": "code",
   "execution_count": null,
   "metadata": {},
   "outputs": [],
   "source": [
    "scaler = StandardScaler()\n",
    "df_scaled = scaler.fit_transform(df[['renda']])\n",
    "\n",
    "imputer = KNNImputer(n_neighbors=5)\n",
    "df_imputed = imputer.fit_transform(df_scaled)\n",
    "\n",
    "df['renda'] = scaler.inverse_transform(df_imputed)\n",
    "print(f'Total de valores Ausentes: {df.isnull().sum().sum()}')"
   ]
  },
  {
   "cell_type": "markdown",
   "metadata": {},
   "source": [
    "## Análise Exploratória e Engenharia de Atributos"
   ]
  },
  {
   "cell_type": "code",
   "execution_count": null,
   "metadata": {},
   "outputs": [],
   "source": [
    "data_boxplot = df.drop(columns = ['id',\n",
    "                                  'educacao',\n",
    "                                  'estado_civil',\n",
    "                                  'criancas_em_casa',\n",
    "                                  'data_cadastro_cliente',\n",
    "                                  'adolescentes_em_casa', \n",
    "                                  'aceitou_campanha_1', \n",
    "                                  'aceitou_campanha_2',\n",
    "                                  'aceitou_campanha_3', \n",
    "                                  'aceitou_campanha_4', \n",
    "                                  'aceitou_campanha_5',\n",
    "                                  'aceitou_campanha_6'])\n",
    "\n",
    "data_boxplot.plot(subplots = True, layout = (4,5), kind = 'box', figsize = (12,14), patch_artist = True)\n",
    "plt.subplots_adjust(wspace=0.5);"
   ]
  },
  {
   "cell_type": "markdown",
   "metadata": {},
   "source": [
    "> Vamos transformar algumas variáveis, criar novas e combinar outras em um trabalho de engenharia de atributos que vai nos ajudar na exploração dos dados."
   ]
  },
  {
   "cell_type": "code",
   "execution_count": null,
   "metadata": {},
   "outputs": [],
   "source": [
    "ano_atual = datetime.now().year\n",
    "df['idade'] = ano_atual - df['ano_nascimento']\n",
    "df['dias_como_cliente'] = (df['data_cadastro_cliente'].max() - df['data_cadastro_cliente']).dt.days\n",
    "df['total_compras'] = df['num_compras_web'] + df['num_compras_catalogo'] + df['num_compras_loja']\n",
    "df['gasto_total'] = df.filter(like = 'gasto').sum(axis=1)\n",
    "df['aceite_campanha'] = df.filter(like = 'aceitou').sum(axis = 1)\n",
    "df['resposta_campanha'] = df['aceite_campanha'].apply(lambda x: 'Aceitou' if x > 0 else 'Não Aceitou')\n",
    "df.head()"
   ]
  },
  {
   "cell_type": "code",
   "execution_count": null,
   "metadata": {},
   "outputs": [],
   "source": [
    "df = df.drop(['ano_nascimento', 'data_cadastro_cliente', 'aceite_campanha'], axis = 1)"
   ]
  }
 ],
 "metadata": {
  "kernelspec": {
   "display_name": "Python 3",
   "language": "python",
   "name": "python3"
  },
  "language_info": {
   "codemirror_mode": {
    "name": "ipython",
    "version": 3
   },
   "file_extension": ".py",
   "mimetype": "text/x-python",
   "name": "python",
   "nbconvert_exporter": "python",
   "pygments_lexer": "ipython3",
   "version": "3.12.0"
  }
 },
 "nbformat": 4,
 "nbformat_minor": 2
}
