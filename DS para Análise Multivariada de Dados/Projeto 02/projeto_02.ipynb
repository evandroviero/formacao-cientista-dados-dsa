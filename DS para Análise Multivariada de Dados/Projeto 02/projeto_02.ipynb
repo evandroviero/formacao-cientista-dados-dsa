{
 "cells": [
  {
   "cell_type": "code",
   "execution_count": 1,
   "metadata": {},
   "outputs": [],
   "source": [
    "import pandas as pd\n",
    "import numpy as np\n",
    "import pickle"
   ]
  },
  {
   "cell_type": "code",
   "execution_count": 2,
   "metadata": {},
   "outputs": [
    {
     "data": {
      "text/html": [
       "<div>\n",
       "<style scoped>\n",
       "    .dataframe tbody tr th:only-of-type {\n",
       "        vertical-align: middle;\n",
       "    }\n",
       "\n",
       "    .dataframe tbody tr th {\n",
       "        vertical-align: top;\n",
       "    }\n",
       "\n",
       "    .dataframe thead th {\n",
       "        text-align: right;\n",
       "    }\n",
       "</style>\n",
       "<table border=\"1\" class=\"dataframe\">\n",
       "  <thead>\n",
       "    <tr style=\"text-align: right;\">\n",
       "      <th></th>\n",
       "      <th>X1</th>\n",
       "      <th>X2</th>\n",
       "      <th>X3</th>\n",
       "      <th>X4</th>\n",
       "      <th>X5</th>\n",
       "      <th>X6</th>\n",
       "      <th>X7</th>\n",
       "      <th>X8</th>\n",
       "      <th>X9</th>\n",
       "      <th>X10</th>\n",
       "      <th>...</th>\n",
       "      <th>X170</th>\n",
       "      <th>X171</th>\n",
       "      <th>X172</th>\n",
       "      <th>X173</th>\n",
       "      <th>X174</th>\n",
       "      <th>X175</th>\n",
       "      <th>X176</th>\n",
       "      <th>X177</th>\n",
       "      <th>X178</th>\n",
       "      <th>LABEL_TARGET</th>\n",
       "    </tr>\n",
       "  </thead>\n",
       "  <tbody>\n",
       "    <tr>\n",
       "      <th>0</th>\n",
       "      <td>135</td>\n",
       "      <td>190</td>\n",
       "      <td>229</td>\n",
       "      <td>223</td>\n",
       "      <td>192</td>\n",
       "      <td>125</td>\n",
       "      <td>55</td>\n",
       "      <td>-9</td>\n",
       "      <td>-33</td>\n",
       "      <td>-38</td>\n",
       "      <td>...</td>\n",
       "      <td>-17</td>\n",
       "      <td>-15</td>\n",
       "      <td>-31</td>\n",
       "      <td>-77</td>\n",
       "      <td>-103</td>\n",
       "      <td>-127</td>\n",
       "      <td>-116</td>\n",
       "      <td>-83</td>\n",
       "      <td>-51</td>\n",
       "      <td>False</td>\n",
       "    </tr>\n",
       "    <tr>\n",
       "      <th>1</th>\n",
       "      <td>386</td>\n",
       "      <td>382</td>\n",
       "      <td>356</td>\n",
       "      <td>331</td>\n",
       "      <td>320</td>\n",
       "      <td>315</td>\n",
       "      <td>307</td>\n",
       "      <td>272</td>\n",
       "      <td>244</td>\n",
       "      <td>232</td>\n",
       "      <td>...</td>\n",
       "      <td>164</td>\n",
       "      <td>150</td>\n",
       "      <td>146</td>\n",
       "      <td>152</td>\n",
       "      <td>157</td>\n",
       "      <td>156</td>\n",
       "      <td>154</td>\n",
       "      <td>143</td>\n",
       "      <td>129</td>\n",
       "      <td>True</td>\n",
       "    </tr>\n",
       "    <tr>\n",
       "      <th>2</th>\n",
       "      <td>-32</td>\n",
       "      <td>-39</td>\n",
       "      <td>-47</td>\n",
       "      <td>-37</td>\n",
       "      <td>-32</td>\n",
       "      <td>-36</td>\n",
       "      <td>-57</td>\n",
       "      <td>-73</td>\n",
       "      <td>-85</td>\n",
       "      <td>-94</td>\n",
       "      <td>...</td>\n",
       "      <td>57</td>\n",
       "      <td>64</td>\n",
       "      <td>48</td>\n",
       "      <td>19</td>\n",
       "      <td>-12</td>\n",
       "      <td>-30</td>\n",
       "      <td>-35</td>\n",
       "      <td>-35</td>\n",
       "      <td>-36</td>\n",
       "      <td>False</td>\n",
       "    </tr>\n",
       "    <tr>\n",
       "      <th>3</th>\n",
       "      <td>-105</td>\n",
       "      <td>-101</td>\n",
       "      <td>-96</td>\n",
       "      <td>-92</td>\n",
       "      <td>-89</td>\n",
       "      <td>-95</td>\n",
       "      <td>-102</td>\n",
       "      <td>-100</td>\n",
       "      <td>-87</td>\n",
       "      <td>-79</td>\n",
       "      <td>...</td>\n",
       "      <td>-82</td>\n",
       "      <td>-81</td>\n",
       "      <td>-80</td>\n",
       "      <td>-77</td>\n",
       "      <td>-85</td>\n",
       "      <td>-77</td>\n",
       "      <td>-72</td>\n",
       "      <td>-69</td>\n",
       "      <td>-65</td>\n",
       "      <td>False</td>\n",
       "    </tr>\n",
       "    <tr>\n",
       "      <th>4</th>\n",
       "      <td>-9</td>\n",
       "      <td>-65</td>\n",
       "      <td>-98</td>\n",
       "      <td>-102</td>\n",
       "      <td>-78</td>\n",
       "      <td>-48</td>\n",
       "      <td>-16</td>\n",
       "      <td>0</td>\n",
       "      <td>-21</td>\n",
       "      <td>-59</td>\n",
       "      <td>...</td>\n",
       "      <td>4</td>\n",
       "      <td>2</td>\n",
       "      <td>-12</td>\n",
       "      <td>-32</td>\n",
       "      <td>-41</td>\n",
       "      <td>-65</td>\n",
       "      <td>-83</td>\n",
       "      <td>-89</td>\n",
       "      <td>-73</td>\n",
       "      <td>False</td>\n",
       "    </tr>\n",
       "  </tbody>\n",
       "</table>\n",
       "<p>5 rows × 179 columns</p>\n",
       "</div>"
      ],
      "text/plain": [
       "    X1   X2   X3   X4   X5   X6   X7   X8   X9  X10  ...  X170  X171  X172  \\\n",
       "0  135  190  229  223  192  125   55   -9  -33  -38  ...   -17   -15   -31   \n",
       "1  386  382  356  331  320  315  307  272  244  232  ...   164   150   146   \n",
       "2  -32  -39  -47  -37  -32  -36  -57  -73  -85  -94  ...    57    64    48   \n",
       "3 -105 -101  -96  -92  -89  -95 -102 -100  -87  -79  ...   -82   -81   -80   \n",
       "4   -9  -65  -98 -102  -78  -48  -16    0  -21  -59  ...     4     2   -12   \n",
       "\n",
       "   X173  X174  X175  X176  X177  X178  LABEL_TARGET  \n",
       "0   -77  -103  -127  -116   -83   -51         False  \n",
       "1   152   157   156   154   143   129          True  \n",
       "2    19   -12   -30   -35   -35   -36         False  \n",
       "3   -77   -85   -77   -72   -69   -65         False  \n",
       "4   -32   -41   -65   -83   -89   -73         False  \n",
       "\n",
       "[5 rows x 179 columns]"
      ]
     },
     "execution_count": 2,
     "metadata": {},
     "output_type": "execute_result"
    }
   ],
   "source": [
    "archive = 'data/dataset.csv'\n",
    "\n",
    "df = pd.read_csv(archive)\n",
    "df.head()"
   ]
  },
  {
   "cell_type": "markdown",
   "metadata": {},
   "source": [
    "## Análise Exploratória e Limpeza de Dados"
   ]
  },
  {
   "cell_type": "code",
   "execution_count": 3,
   "metadata": {},
   "outputs": [
    {
     "data": {
      "text/plain": [
       "LABEL_TARGET\n",
       "False    9200\n",
       "True     2300\n",
       "Name: count, dtype: int64"
      ]
     },
     "execution_count": 3,
     "metadata": {},
     "output_type": "execute_result"
    }
   ],
   "source": [
    "df.LABEL_TARGET.value_counts()"
   ]
  },
  {
   "cell_type": "code",
   "execution_count": 4,
   "metadata": {},
   "outputs": [],
   "source": [
    "df[\"LABEL_TARGET\"] = df[\"LABEL_TARGET\"].astype(int)"
   ]
  },
  {
   "cell_type": "code",
   "execution_count": 5,
   "metadata": {},
   "outputs": [
    {
     "name": "stdout",
     "output_type": "stream",
     "text": [
      "Número de colunas: 179\n"
     ]
    }
   ],
   "source": [
    "print(f\"Número de colunas: {len(df.columns)}\")"
   ]
  },
  {
   "cell_type": "code",
   "execution_count": 6,
   "metadata": {},
   "outputs": [
    {
     "data": {
      "text/plain": [
       "False"
      ]
     },
     "execution_count": 6,
     "metadata": {},
     "output_type": "execute_result"
    }
   ],
   "source": [
    "# Verificando se há valores ausentes\n",
    "df.isnull().values.any()"
   ]
  },
  {
   "cell_type": "code",
   "execution_count": 7,
   "metadata": {},
   "outputs": [],
   "source": [
    "# Extrai a lista de colunas\n",
    "lista_de_colunas = df.columns.tolist()"
   ]
  },
  {
   "cell_type": "code",
   "execution_count": 8,
   "metadata": {},
   "outputs": [],
   "source": [
    "# Colunas das variáveis de entrada (input)\n",
    "colunas_entrada = lista_de_colunas[0:178]"
   ]
  },
  {
   "cell_type": "code",
   "execution_count": 9,
   "metadata": {},
   "outputs": [
    {
     "name": "stdout",
     "output_type": "stream",
     "text": [
      "set()\n"
     ]
    }
   ],
   "source": [
    "# Checando se temos colunas duplicadas nos dados de entrada\n",
    "dup_cols = set([x for x in colunas_entrada if colunas_entrada.count(x) > 1])\n",
    "print(dup_cols)\n",
    "assert len(dup_cols) == 0, \"você duplicou colunas em cols_input\""
   ]
  },
  {
   "cell_type": "code",
   "execution_count": 10,
   "metadata": {},
   "outputs": [
    {
     "name": "stdout",
     "output_type": "stream",
     "text": [
      "set()\n"
     ]
    }
   ],
   "source": [
    "# Checando se temos colunas duplicadas no dataset completo\n",
    "dup_cols = set([x for x in lista_de_colunas if lista_de_colunas.count(x) > 1])\n",
    "print(dup_cols)\n",
    "assert len(dup_cols) == 0,'você duplicou colunas em lista_de_colunas'"
   ]
  },
  {
   "cell_type": "markdown",
   "metadata": {},
   "source": [
    "A prevalência é a porcentagem das amostras que têm a característica que você está tentando prever. Em nosso caso, significa que as pessoas que renovaram o seguro são da classe positiva (ocorrência do evento) e quem não comprou é da classe negativa (não ocorreu o evento).\n",
    "\n",
    "Os termos positivo e negativo não têm conotação de coisa boa ou ruim. É apenas a nomenclatura usada para indicar a ocorrência ou não do evento.\n",
    "\n",
    "A taxa é calculada por (número de amostras positivas / número de amostras). Portanto, uma taxa de prevalência de 0,2 significa que 20% de nossa amostra renovou o seguro do carro."
   ]
  },
  {
   "cell_type": "code",
   "execution_count": 17,
   "metadata": {},
   "outputs": [
    {
     "name": "stdout",
     "output_type": "stream",
     "text": [
      "Prevalência da classe positiva: 20.00%\n"
     ]
    }
   ],
   "source": [
    "# Esta função calcula a prevalência da classe positiva (label = 1)\n",
    "def calcula_prevalencia(y_actual):\n",
    "    return sum(y_actual) / len(y_actual)\n",
    "\n",
    "prevalencia = calcula_prevalencia(df[\"LABEL_TARGET\"].values)\n",
    "print(f\"Prevalência da classe positiva: {prevalencia:.2%}\")"
   ]
  },
  {
   "cell_type": "markdown",
   "metadata": {},
   "source": [
    "> O desbalanceamento de classe é um problema que terá que ser resolvido durante o pré-processamento dos dados."
   ]
  },
  {
   "cell_type": "markdown",
   "metadata": {},
   "source": [
    "## Divisão dos Dados Mantendo a Prevalência de Classe"
   ]
  },
  {
   "cell_type": "markdown",
   "metadata": {},
   "source": [
    "## O Que é Amostragem Aleatória?\n",
    "\n",
    "Amostragem aleatória é uma técnica utilizada em estatística para selecionar uma amostra de indivíduos, objetos ou dados de uma população de maneira que cada membro da população tenha uma chance igual de ser incluído na amostra.\n",
    "\n",
    "Este método é importante porque ajuda a garantir que a amostra seja representativa da população total, permitindo que as conclusões tiradas da análise da amostra sejam generalizadas para a população como um todo.\n",
    "\n",
    "Existem diferentes métodos de amostragem aleatória, incluindo:\n",
    "\n",
    "\n",
    "\n",
    "**Amostragem Aleatória Simples:** Cada membro da população tem a mesma probabilidade de ser selecionado. Pode ser feito com ou sem reposição.\n",
    "**Amostragem Aleatória Estratificada:** A população é dividida em estratos ou grupos baseados em características específicas, e então uma amostra aleatória é selecionada de cada estrato proporcionalmente.\n",
    "**Amostragem Aleatória Sistemática:** Escolhe-se um ponto de partida aleatório e, a partir daí, seleciona-se cada enésimo membro da população.\n",
    "**Amostragem Aleatória por Conglomerados:** A população é dividida em conglomerados (grupos) e alguns desses conglomerados são selecionados aleatoriamente. Todos os indivíduos dentro dos conglomerados escolhidos são incluídos na amostra.\n",
    "\n",
    "A escolha do método de amostragem depende do objetivo da pesquisa, do tamanho e da natureza da população, bem como dos recursos disponíveis para o estudo. A amostragem aleatória ajuda a minimizar o viés na seleção da amostra, melhorando a confiabilidade e a validade dos resultados do estudo."
   ]
  },
  {
   "cell_type": "code",
   "execution_count": 22,
   "metadata": {},
   "outputs": [
    {
     "name": "stdout",
     "output_type": "stream",
     "text": [
      "Tamanho da divisão de validação / teste: 30.00%\n"
     ]
    }
   ],
   "source": [
    "# Gerando amostras aleatórias dos dados\n",
    "df_data = df.sample(n = len(df)).reset_index(drop = True)\n",
    "\n",
    "# Extrai uma amostra de 30% dos dados de forma aleatória\n",
    "df_amostra_30 = df_data.sample(frac = 0.3)\n",
    "\n",
    "print(f\"Tamanho da divisão de validação / teste: {(len(df_amostra_30) / len(df_data)):.2%}\")"
   ]
  },
  {
   "cell_type": "code",
   "execution_count": 19,
   "metadata": {},
   "outputs": [],
   "source": [
    "# Fazendo a divisão\n",
    "\n",
    "# Dados de teste\n",
    "df_teste = df_amostra_30.sample(frac = 0.5)\n",
    "\n",
    "# Dados se validação\n",
    "df_valid = df_amostra_30.drop(df_teste.index)\n",
    "\n",
    "# Dados de treino\n",
    "df_treino = df_data.drop(df_amostra_30.index)"
   ]
  },
  {
   "cell_type": "code",
   "execution_count": 20,
   "metadata": {},
   "outputs": [
    {
     "name": "stdout",
     "output_type": "stream",
     "text": [
      "Teste(n = 1725): 0.196\n",
      "Validação(n = 1725): 0.202\n",
      "Treino(n = 8050): 0.200\n"
     ]
    }
   ],
   "source": [
    "# Verifique a prevalência de cada subconjunto\n",
    "print(\n",
    "    \"Teste(n = %d): %.3f\"\n",
    "    % (len(df_teste), calcula_prevalencia(df_teste.LABEL_TARGET.values))\n",
    ")\n",
    "print(\n",
    "    \"Validação(n = %d): %.3f\"\n",
    "    % (len(df_valid), calcula_prevalencia(df_valid.LABEL_TARGET.values))\n",
    ")\n",
    "print(\n",
    "    \"Treino(n = %d): %.3f\"\n",
    "    % (len(df_treino), calcula_prevalencia(df_treino.LABEL_TARGET.values))\n",
    ")"
   ]
  },
  {
   "cell_type": "markdown",
   "metadata": {},
   "source": [
    "## Balanceamento de Classe\n",
    "\n",
    "Vamos aplicar a estratégia de undersampling."
   ]
  },
  {
   "cell_type": "markdown",
   "metadata": {},
   "source": [
    "## O Que é e Por Que Usamos Balanceamento de Classe?\n",
    "\n",
    "O balanceamento de classe é uma técnica usada no processamento de dados e na aprendizagem de máquina para lidar com conjuntos de dados onde as classes (categorias ou rótulos de saída) estão desigualmente representadas. Isso significa que uma ou mais classes têm muito mais instâncias do que outras. Tal desequilíbrio pode levar a um viés no modelo de aprendizado, onde ele tende a favorecer as classes mais representativas, prejudicando o desempenho na previsão das classes minoritárias.\n",
    "\n",
    "Usamos o balanceamento de classe para:\n",
    "\n",
    "**Melhorar a precisão do modelo em classes minoritárias:** Sem balanceamento, um modelo pode ignorar as classes minoritárias, pois focar nas classes majoritárias pode já proporcionar uma alta taxa de acerto geral. Balancear as classes ajuda a garantir que o modelo dê atenção adequada a todas as classes.\n",
    "\n",
    "**Evitar viés no modelo:** Em muitos casos, as classes minoritárias são de grande importância, como na detecção de fraudes ou no diagnóstico de doenças raras. O balanceamento ajuda a evitar um viés que poderia levar a muitos falsos negativos nessas situações críticas.\n",
    "\n",
    "**Melhorar a generalização do modelo:** Ao garantir que o modelo seja treinado em uma distribuição de classes mais uniforme, ele pode aprender características relevantes de todas as classes, melhorando sua capacidade de generalização para dados não vistos.\n",
    "\n",
    "## Undersampling x Oversampling x Ponderação de Classes\n",
    "\n",
    "Existem várias técnicas para alcançar o balanceamento de classe, incluindo:\n",
    "\n",
    "**Sobreamostragem (Oversampling):** Aumentar o número de instâncias nas classes minoritárias, seja por replicação ou por técnicas mais sofisticadas como o SMOTE (Synthetic Minority Over-sampling Technique), que cria exemplos sintéticos, mas plausíveis, da classe minoritária.\n",
    "\n",
    "**Subamostragem (Undersampling):** Reduzir o número de instâncias nas classes majoritárias para se aproximar do número de instâncias presentes nas classes minoritárias. Isso pode ser feito de maneira aleatória ou com técnicas mais elaboradas que buscam preservar a informação importante.\n",
    "\n",
    "**Ponderação de classes (Class weighting):** Atribuir pesos diferentes às classes durante o treinamento do modelo, de modo que os erros nas classes minoritárias tenham um impacto maior na função de perda, incentivando o modelo a prestar mais atenção a essas classes.\n",
    "\n",
    "Cada abordagem tem suas vantagens e desvantagens, e a escolha depende do contexto específico do problema, do tamanho do conjunto de dados e das limitações computacionais. O objetivo final é criar um modelo mais justo e eficaz, capaz de tratar todas as classes de maneira equilibrada."
   ]
  },
  {
   "cell_type": "code",
   "execution_count": 25,
   "metadata": {},
   "outputs": [
    {
     "data": {
      "text/plain": [
       "LABEL_TARGET\n",
       "0    6436\n",
       "1    1614\n",
       "Name: count, dtype: int64"
      ]
     },
     "execution_count": 25,
     "metadata": {},
     "output_type": "execute_result"
    }
   ],
   "source": [
    "df_treino.LABEL_TARGET.value_counts()"
   ]
  },
  {
   "cell_type": "code",
   "execution_count": 23,
   "metadata": {},
   "outputs": [],
   "source": [
    "# Cria um índice com True/False\n",
    "indice = df_treino.LABEL_TARGET == 1\n",
    "\n",
    "# Define valores positivos e negativos do índice\n",
    "df_train_pos = df_treino.loc[indice]\n",
    "df_train_neg = df_treino.loc[~indice]\n",
    "\n",
    "# Valor mínimo de registros entre classe positiva e negativa\n",
    "valor_minimo = np.min([len(df_train_pos), len(df_train_neg)])"
   ]
  },
  {
   "cell_type": "code",
   "execution_count": 33,
   "metadata": {},
   "outputs": [
    {
     "data": {
      "text/plain": [
       "(3228, 179)"
      ]
     },
     "execution_count": 33,
     "metadata": {},
     "output_type": "execute_result"
    }
   ],
   "source": [
    "# Obtém valores aleatórios para o dataset de treino\n",
    "df_treino_final = pd.concat([df_train_pos.sample(n = valor_minimo, random_state = 69), \n",
    "                             df_train_neg.sample(n = valor_minimo, random_state = 69)], \n",
    "                            axis = 0, \n",
    "                            ignore_index = True)\n",
    "df_treino_final.shape"
   ]
  },
  {
   "cell_type": "code",
   "execution_count": 34,
   "metadata": {},
   "outputs": [
    {
     "data": {
      "text/plain": [
       "LABEL_TARGET\n",
       "1    1614\n",
       "0    1614\n",
       "Name: count, dtype: int64"
      ]
     },
     "execution_count": 34,
     "metadata": {},
     "output_type": "execute_result"
    }
   ],
   "source": [
    "df_treino_final.LABEL_TARGET.value_counts()"
   ]
  },
  {
   "cell_type": "code",
   "execution_count": 35,
   "metadata": {},
   "outputs": [],
   "source": [
    "# Amostragem aleatória do dataset de treino\n",
    "df_treino_final = df_treino_final.sample(n = len(df_treino_final), random_state = 69).reset_index(drop = True)"
   ]
  },
  {
   "cell_type": "code",
   "execution_count": 36,
   "metadata": {},
   "outputs": [
    {
     "name": "stdout",
     "output_type": "stream",
     "text": [
      "Balanceamento em Treino(n = 3228): 0.500\n"
     ]
    }
   ],
   "source": [
    "# Balanceamento do conjunto de dados\n",
    "print('Balanceamento em Treino(n = %d): %.3f'%(len(df_treino_final), \n",
    "                                               calcula_prevalencia(df_treino_final.LABEL_TARGET.values)))"
   ]
  },
  {
   "cell_type": "code",
   "execution_count": null,
   "metadata": {},
   "outputs": [],
   "source": [
    "## Salvando o Resultado do Pré-Processamento\n",
    "\n",
    "df_treino.to_csv('data/dados_treino.csv', index = False)\n",
    "df_treino_final.to_csv('data/dados_treino_final.csv', index = False)\n",
    "df_valid.to_csv('data/dados_valid.csv', index = False)\n",
    "df_teste.to_csv('data/dados_teste.csv', index = False)"
   ]
  },
  {
   "cell_type": "code",
   "execution_count": null,
   "metadata": {},
   "outputs": [],
   "source": [
    "# Salvamos os nomes dos dados de entrada (colunas preditoras) para facilitar a utilização mais tarde\n",
    "pickle.dump(colunas_entrada, open('data/colunas_entrada.sav', 'wb'))"
   ]
  }
 ],
 "metadata": {
  "kernelspec": {
   "display_name": "Python 3",
   "language": "python",
   "name": "python3"
  },
  "language_info": {
   "codemirror_mode": {
    "name": "ipython",
    "version": 3
   },
   "file_extension": ".py",
   "mimetype": "text/x-python",
   "name": "python",
   "nbconvert_exporter": "python",
   "pygments_lexer": "ipython3",
   "version": "3.12.0"
  }
 },
 "nbformat": 4,
 "nbformat_minor": 2
}
