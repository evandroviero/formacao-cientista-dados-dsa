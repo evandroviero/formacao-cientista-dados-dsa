{
 "cells": [
  {
   "cell_type": "code",
   "execution_count": 1,
   "metadata": {},
   "outputs": [],
   "source": [
    "import numpy as np\n",
    "import pandas as pd\n",
    "import sklearn\n",
    "import matplotlib.pyplot as plt\n",
    "from sklearn.preprocessing import StandardScaler\n",
    "from sklearn.decomposition import PCA \n",
    "from sklearn.model_selection import cross_val_score\n",
    "from sklearn.linear_model import LogisticRegression\n",
    "from sklearn.model_selection import LeaveOneOut\n",
    "\n",
    "import warnings\n",
    "warnings.filterwarnings(\"ignore\")"
   ]
  },
  {
   "cell_type": "code",
   "execution_count": 2,
   "metadata": {},
   "outputs": [
    {
     "data": {
      "text/html": [
       "<div>\n",
       "<style scoped>\n",
       "    .dataframe tbody tr th:only-of-type {\n",
       "        vertical-align: middle;\n",
       "    }\n",
       "\n",
       "    .dataframe tbody tr th {\n",
       "        vertical-align: top;\n",
       "    }\n",
       "\n",
       "    .dataframe thead th {\n",
       "        text-align: right;\n",
       "    }\n",
       "</style>\n",
       "<table border=\"1\" class=\"dataframe\">\n",
       "  <thead>\n",
       "    <tr style=\"text-align: right;\">\n",
       "      <th></th>\n",
       "      <th>Atributo_1</th>\n",
       "      <th>Atributo_2</th>\n",
       "      <th>Atributo_3</th>\n",
       "      <th>Atributo_4</th>\n",
       "      <th>Atributo_5</th>\n",
       "      <th>Atributo_6</th>\n",
       "      <th>Atributo_7</th>\n",
       "      <th>Atributo_8</th>\n",
       "    </tr>\n",
       "  </thead>\n",
       "  <tbody>\n",
       "    <tr>\n",
       "      <th>0</th>\n",
       "      <td>0.496714</td>\n",
       "      <td>-0.138264</td>\n",
       "      <td>0.647689</td>\n",
       "      <td>1.523030</td>\n",
       "      <td>-0.234153</td>\n",
       "      <td>-0.234137</td>\n",
       "      <td>1.579213</td>\n",
       "      <td>0.767435</td>\n",
       "    </tr>\n",
       "    <tr>\n",
       "      <th>1</th>\n",
       "      <td>-0.469474</td>\n",
       "      <td>0.542560</td>\n",
       "      <td>-0.463418</td>\n",
       "      <td>-0.465730</td>\n",
       "      <td>0.241962</td>\n",
       "      <td>-1.913280</td>\n",
       "      <td>-1.724918</td>\n",
       "      <td>-0.562288</td>\n",
       "    </tr>\n",
       "    <tr>\n",
       "      <th>2</th>\n",
       "      <td>-1.012831</td>\n",
       "      <td>0.314247</td>\n",
       "      <td>-0.908024</td>\n",
       "      <td>-1.412304</td>\n",
       "      <td>1.465649</td>\n",
       "      <td>-0.225776</td>\n",
       "      <td>0.067528</td>\n",
       "      <td>-1.424748</td>\n",
       "    </tr>\n",
       "    <tr>\n",
       "      <th>3</th>\n",
       "      <td>-0.544383</td>\n",
       "      <td>0.110923</td>\n",
       "      <td>-1.150994</td>\n",
       "      <td>0.375698</td>\n",
       "      <td>-0.600639</td>\n",
       "      <td>-0.291694</td>\n",
       "      <td>-0.601707</td>\n",
       "      <td>1.852278</td>\n",
       "    </tr>\n",
       "    <tr>\n",
       "      <th>4</th>\n",
       "      <td>-0.013497</td>\n",
       "      <td>-1.057711</td>\n",
       "      <td>0.822545</td>\n",
       "      <td>-1.220844</td>\n",
       "      <td>0.208864</td>\n",
       "      <td>-1.959670</td>\n",
       "      <td>-1.328186</td>\n",
       "      <td>0.196861</td>\n",
       "    </tr>\n",
       "  </tbody>\n",
       "</table>\n",
       "</div>"
      ],
      "text/plain": [
       "   Atributo_1  Atributo_2  Atributo_3  Atributo_4  Atributo_5  Atributo_6  \\\n",
       "0    0.496714   -0.138264    0.647689    1.523030   -0.234153   -0.234137   \n",
       "1   -0.469474    0.542560   -0.463418   -0.465730    0.241962   -1.913280   \n",
       "2   -1.012831    0.314247   -0.908024   -1.412304    1.465649   -0.225776   \n",
       "3   -0.544383    0.110923   -1.150994    0.375698   -0.600639   -0.291694   \n",
       "4   -0.013497   -1.057711    0.822545   -1.220844    0.208864   -1.959670   \n",
       "\n",
       "   Atributo_7  Atributo_8  \n",
       "0    1.579213    0.767435  \n",
       "1   -1.724918   -0.562288  \n",
       "2    0.067528   -1.424748  \n",
       "3   -0.601707    1.852278  \n",
       "4   -1.328186    0.196861  "
      ]
     },
     "execution_count": 2,
     "metadata": {},
     "output_type": "execute_result"
    }
   ],
   "source": [
    "np.random.seed(42)\n",
    "\n",
    "dados = np.random.randn(1000, 8)\n",
    "\n",
    "df = pd.DataFrame(dados, columns=[f\"Atributo_{i}\" for i in range(1, 9)])\n",
    "df.head()"
   ]
  },
  {
   "cell_type": "markdown",
   "metadata": {},
   "source": [
    "## Padronização dos Dados\n",
    "\n",
    "Nesta etapa, vamos padronizar os dados. A padronização dos dados é uma técnica de pré-processamento em Machine Learning que transforma os valores de uma variável para que tenham média zero e desvio padrão de um. Isso é especialmente útil para algoritmos que dependem da distância entre as observações ou métodos baseados em gradiente, como redes neurais, pois ajuda a melhorar a convergência durante o treinamento. O PCA requer os dados padronizados.\n",
    "\n",
    "Após a padronização, os dados resultantes têm uma média muito próxima de zero e um desvio padrão igual a um. Isso não apenas facilita a análise e o treinamento de modelos mas também ajuda a reduzir qualquer viés que possa ser introduzido por variáveis em escalas significativamente diferentes."
   ]
  },
  {
   "cell_type": "code",
   "execution_count": 4,
   "metadata": {},
   "outputs": [
    {
     "data": {
      "text/plain": [
       "array([[ 0.50005258, -0.1079961 ,  0.69137884, ..., -0.2174599 ,\n",
       "         1.54266063,  0.72124761],\n",
       "       [-0.46570918,  0.57203085, -0.43181987, ..., -1.87318757,\n",
       "        -1.65304186, -0.57797922],\n",
       "       [-1.00882591,  0.34398554, -0.88126503, ..., -0.20921584,\n",
       "         0.08058337, -1.42066048],\n",
       "       ...,\n",
       "       [-0.98387173,  0.75229737,  0.12308532, ..., -0.48368659,\n",
       "        -0.05519563,  1.81736367],\n",
       "       [ 0.24162393, -0.8096809 ,  0.25967332, ...,  0.5858837 ,\n",
       "         1.18481977, -0.05231653],\n",
       "       [ 1.6417944 ,  0.93706544, -0.67849748, ..., -0.81006669,\n",
       "         1.61394232,  2.00153949]])"
      ]
     },
     "execution_count": 4,
     "metadata": {},
     "output_type": "execute_result"
    }
   ],
   "source": [
    "df_scaler = StandardScaler()\n",
    "\n",
    "df_padronizado = df_scaler.fit_transform(df)\n",
    "df_padronizado"
   ]
  },
  {
   "cell_type": "markdown",
   "metadata": {},
   "source": [
    "## Aplicando PCA às Variáveis de Entrada"
   ]
  },
  {
   "cell_type": "code",
   "execution_count": 5,
   "metadata": {},
   "outputs": [
    {
     "data": {
      "text/plain": [
       "array([[-1.00191225,  1.08652608,  0.70735925, ...,  0.04277897,\n",
       "         0.46090549,  1.41207008],\n",
       "       [ 1.56243282, -0.39897564, -1.94944629, ...,  0.79636812,\n",
       "         0.20001234, -0.42570692],\n",
       "       [ 1.86313495, -0.5654041 , -0.05326957, ..., -0.57754214,\n",
       "         0.87677555, -0.399163  ],\n",
       "       ...,\n",
       "       [ 1.17332664,  0.20633089,  0.01206161, ..., -1.1537082 ,\n",
       "        -0.72878039, -1.49490119],\n",
       "       [-0.52775583, -0.30376184,  1.25823946, ..., -0.48839252,\n",
       "         0.70099184,  0.11597958],\n",
       "       [ 0.18891   ,  1.76142352,  1.47240733, ...,  1.55164509,\n",
       "        -0.62971354,  2.29420302]])"
      ]
     },
     "execution_count": 5,
     "metadata": {},
     "output_type": "execute_result"
    }
   ],
   "source": [
    "dsa_pca = PCA()\n",
    "dados_pca = dsa_pca.fit_transform(df_padronizado)\n",
    "dados_pca"
   ]
  },
  {
   "cell_type": "markdown",
   "metadata": {},
   "source": [
    "## Calculando a Matriz de Covariância\n",
    "\n",
    "No contexto do PCA, a matriz de covariância desempenha um papel vital. Para entender sua importância, vamos primeiro abordar o que ela é e como se relaciona com o PCA.\n",
    "A matriz de covariância é uma matriz quadrada que mede a covariância entre cada par de variáveis em um conjunto de dados. Covariância, em termos simples, é uma medida de como duas variáveis variam juntas. Se ambas as variáveis tendem a aumentar ou diminuir juntas, a covariância é positiva; se uma variável tende a aumentar quando a outra diminui, a covariância é negativa; e se as variáveis não exibem qualquer tendência consistente de variação conjunta, a covariância é próxima de zero.\n",
    "\n",
    "A principal motivação por trás do PCA é reduzir a dimensionalidade de um conjunto de dados mantendo o máximo de informação possível. O PCA busca identificar \"direções\" no espaço de dados que capturam a maior variância nos dados. Essas direções são os chamados componentes principais.\n",
    "\n",
    "A relação entre a matriz de covariância e o PCA é que os componentes principais são determinados a partir dos autovetores da matriz de covariância. O primeiro componente principal é a direção (ou autovetor) que corresponde ao maior autovalor da matriz de covariância e, portanto, captura a maior variância nos dados. O segundo componente principal é a direção que captura a segunda maior variância, e assim por diante."
   ]
  },
  {
   "cell_type": "code",
   "execution_count": 24,
   "metadata": {},
   "outputs": [
    {
     "data": {
      "text/plain": [
       "array([[ 1.00100100e+00, -3.69357111e-02,  3.06924109e-03,\n",
       "        -3.40509104e-02, -2.46119766e-02,  1.71832531e-02,\n",
       "         1.04925691e-02, -2.19223880e-02],\n",
       "       [-3.69357111e-02,  1.00100100e+00, -4.84707341e-02,\n",
       "        -3.25134657e-02, -6.87427050e-03, -5.40529525e-02,\n",
       "         1.51251647e-02, -2.03757820e-02],\n",
       "       [ 3.06924109e-03, -4.84707341e-02,  1.00100100e+00,\n",
       "        -2.26662376e-03, -3.83098518e-02,  2.49333208e-02,\n",
       "        -3.98294504e-02, -8.44378492e-03],\n",
       "       [-3.40509104e-02, -3.25134657e-02, -2.26662376e-03,\n",
       "         1.00100100e+00, -7.38873848e-02,  2.97271555e-02,\n",
       "        -8.86529733e-03,  8.37242871e-04],\n",
       "       [-2.46119766e-02, -6.87427050e-03, -3.83098518e-02,\n",
       "        -7.38873848e-02,  1.00100100e+00, -1.17331628e-02,\n",
       "        -2.74971107e-02,  2.51417888e-02],\n",
       "       [ 1.71832531e-02, -5.40529525e-02,  2.49333208e-02,\n",
       "         2.97271555e-02, -1.17331628e-02,  1.00100100e+00,\n",
       "         3.13041748e-02, -1.05193266e-02],\n",
       "       [ 1.04925691e-02,  1.51251647e-02, -3.98294504e-02,\n",
       "        -8.86529733e-03, -2.74971107e-02,  3.13041748e-02,\n",
       "         1.00100100e+00,  2.38964840e-02],\n",
       "       [-2.19223880e-02, -2.03757820e-02, -8.44378492e-03,\n",
       "         8.37242871e-04,  2.51417888e-02, -1.05193266e-02,\n",
       "         2.38964840e-02,  1.00100100e+00]])"
      ]
     },
     "execution_count": 24,
     "metadata": {},
     "output_type": "execute_result"
    }
   ],
   "source": [
    "cov_matrix = np.cov(df_padronizado, rowvar=False)\n",
    "cov_matrix"
   ]
  },
  {
   "cell_type": "code",
   "execution_count": 7,
   "metadata": {},
   "outputs": [],
   "source": [
    "# Extrai a variância explicada\n",
    "explained_variance = dsa_pca.explained_variance_ratio_"
   ]
  },
  {
   "cell_type": "code",
   "execution_count": 8,
   "metadata": {},
   "outputs": [],
   "source": [
    "# Ajustar o range para começar de 1\n",
    "componentes = range(1, len(explained_variance) + 1)"
   ]
  },
  {
   "cell_type": "code",
   "execution_count": 9,
   "metadata": {},
   "outputs": [
    {
     "data": {
      "image/png": "[encoded data removed]",
      "text/plain": [
       "<Figure size 640x480 with 1 Axes>"
      ]
     },
     "metadata": {},
     "output_type": "display_data"
    }
   ],
   "source": [
    "# Plot\n",
    "plt.bar(componentes, explained_variance)\n",
    "\n",
    "# Ajustar os ticks no eixo x\n",
    "plt.xticks(componentes)\n",
    "\n",
    "plt.xlabel('Componente Principal')\n",
    "plt.ylabel('Variância Explicada')\n",
    "plt.title('Variância Explicada por Cada Componente')\n",
    "plt.show()"
   ]
  },
  {
   "cell_type": "markdown",
   "metadata": {},
   "source": [
    "# Identificação e Interpretação de Cada Componente"
   ]
  },
  {
   "cell_type": "code",
   "execution_count": 12,
   "metadata": {},
   "outputs": [
    {
     "data": {
      "text/html": [
       "<div>\n",
       "<style scoped>\n",
       "    .dataframe tbody tr th:only-of-type {\n",
       "        vertical-align: middle;\n",
       "    }\n",
       "\n",
       "    .dataframe tbody tr th {\n",
       "        vertical-align: top;\n",
       "    }\n",
       "\n",
       "    .dataframe thead th {\n",
       "        text-align: right;\n",
       "    }\n",
       "</style>\n",
       "<table border=\"1\" class=\"dataframe\">\n",
       "  <thead>\n",
       "    <tr style=\"text-align: right;\">\n",
       "      <th></th>\n",
       "      <th>Atributo_1</th>\n",
       "      <th>Atributo_2</th>\n",
       "      <th>Atributo_3</th>\n",
       "      <th>Atributo_4</th>\n",
       "      <th>Atributo_5</th>\n",
       "      <th>Atributo_6</th>\n",
       "      <th>Atributo_7</th>\n",
       "      <th>Atributo_8</th>\n",
       "    </tr>\n",
       "  </thead>\n",
       "  <tbody>\n",
       "    <tr>\n",
       "      <th>PC-1</th>\n",
       "      <td>-0.196388</td>\n",
       "      <td>0.468139</td>\n",
       "      <td>-0.405046</td>\n",
       "      <td>-0.417747</td>\n",
       "      <td>0.436951</td>\n",
       "      <td>-0.448249</td>\n",
       "      <td>0.010965</td>\n",
       "      <td>0.108297</td>\n",
       "    </tr>\n",
       "    <tr>\n",
       "      <th>PC-2</th>\n",
       "      <td>-0.275254</td>\n",
       "      <td>0.406774</td>\n",
       "      <td>-0.350551</td>\n",
       "      <td>0.470875</td>\n",
       "      <td>-0.485621</td>\n",
       "      <td>-0.042320</td>\n",
       "      <td>0.420036</td>\n",
       "      <td>-0.010603</td>\n",
       "    </tr>\n",
       "    <tr>\n",
       "      <th>PC-3</th>\n",
       "      <td>0.389133</td>\n",
       "      <td>-0.176295</td>\n",
       "      <td>-0.305869</td>\n",
       "      <td>-0.250275</td>\n",
       "      <td>0.137979</td>\n",
       "      <td>0.371768</td>\n",
       "      <td>0.654928</td>\n",
       "      <td>0.274085</td>\n",
       "    </tr>\n",
       "    <tr>\n",
       "      <th>PC-4</th>\n",
       "      <td>0.542503</td>\n",
       "      <td>0.297805</td>\n",
       "      <td>0.009931</td>\n",
       "      <td>-0.296110</td>\n",
       "      <td>-0.291527</td>\n",
       "      <td>-0.101594</td>\n",
       "      <td>0.043470</td>\n",
       "      <td>-0.657285</td>\n",
       "    </tr>\n",
       "    <tr>\n",
       "      <th>PC-5</th>\n",
       "      <td>-0.263291</td>\n",
       "      <td>-0.017466</td>\n",
       "      <td>-0.357604</td>\n",
       "      <td>0.145364</td>\n",
       "      <td>0.401602</td>\n",
       "      <td>0.537062</td>\n",
       "      <td>-0.112864</td>\n",
       "      <td>-0.564716</td>\n",
       "    </tr>\n",
       "  </tbody>\n",
       "</table>\n",
       "</div>"
      ],
      "text/plain": [
       "      Atributo_1  Atributo_2  Atributo_3  Atributo_4  Atributo_5  Atributo_6  \\\n",
       "PC-1   -0.196388    0.468139   -0.405046   -0.417747    0.436951   -0.448249   \n",
       "PC-2   -0.275254    0.406774   -0.350551    0.470875   -0.485621   -0.042320   \n",
       "PC-3    0.389133   -0.176295   -0.305869   -0.250275    0.137979    0.371768   \n",
       "PC-4    0.542503    0.297805    0.009931   -0.296110   -0.291527   -0.101594   \n",
       "PC-5   -0.263291   -0.017466   -0.357604    0.145364    0.401602    0.537062   \n",
       "\n",
       "      Atributo_7  Atributo_8  \n",
       "PC-1    0.010965    0.108297  \n",
       "PC-2    0.420036   -0.010603  \n",
       "PC-3    0.654928    0.274085  \n",
       "PC-4    0.043470   -0.657285  \n",
       "PC-5   -0.112864   -0.564716  "
      ]
     },
     "execution_count": 12,
     "metadata": {},
     "output_type": "execute_result"
    }
   ],
   "source": [
    "# Extraindo os componentes principais\n",
    "componentes = pd.DataFrame(dsa_pca.components_, \n",
    "                           columns = df.columns, \n",
    "                           index = [f'PC-{i}' for i in range(1, 9)])\n",
    "componentes.head()"
   ]
  },
  {
   "cell_type": "markdown",
   "metadata": {},
   "source": [
    "A tabela acima mostra os coeficientes (ou cargas) de cada componente principal em relação a cada um dos atributos originais (Atributo_1, Atributo_2, etc.). Cada linha (PC-1, PC-2, etc.) representa um componente principal, e cada valor na linha indica a contribuição relativa de cada atributo original para esse componente principal. Aqui está como você pode interpretar esses valores:\n",
    "\n",
    "**PC-1, PC-2, ..., PC-8**: Estes são os componentes principais obtidos da PCA. Cada componente é uma combinação linear dos atributos originais.\n",
    "\n",
    "**Valores na tabela (por exemplo, para PC-1: -0.196388 para Atributo_1, 0.468139 para Atributo_2, etc.)**: Esses números mostram como cada atributo original contribui para o componente principal correspondente. Um valor alto (positivo ou negativo) indica uma contribuição significativa desse atributo ao componente principal, enquanto um valor próximo de zero indica pouca ou nenhuma contribuição.\n",
    "\n",
    "Como interpretar cada componente:\n",
    "\n",
    "**PC-1**: Tem altas cargas (em magnitude) para os Atributos 2, 3, 4, 5 e 6, indicando que esses atributos são importantes para este componente. Os sinais opostos (positivo e negativo) podem indicar correlações inversas entre estes atributos no contexto deste componente.\n",
    "\n",
    "**PC-2**: Mostra cargas significativas e contrárias para os Atributos 4 e 5, e também tem contribuições consideráveis de Atributos 2 e 3.\n",
    "\n",
    "**PC-3**: É dominado pelos Atributos 6 e 7, com contribuições positivas substanciais, indicando que esses atributos variam juntos de forma significativa nesta dimensão.\n",
    "\n",
    "**PC-4 a PC-8**: Cada um destes tem um padrão distinto de contribuições dos atributos, indicando diferentes inter-relações entre os atributos quando vistos através desses componentes."
   ]
  },
  {
   "cell_type": "markdown",
   "metadata": {},
   "source": [
    "## Escolhendo o Número Ideal de Componentes com Validação Cruzada\n",
    "\n",
    "Usaremos um modelo de regressão logística e verificaremos o desempenho do modelo com diferentes números de componentes.\n",
    "Vamos adcionar uma nova coluna com dois valores possíveis:\n",
    "\n",
    "- 0 indicando que a máquina não precisou de manutenção preditiva (classe negativa).\n",
    "- 1 indicando que a máquina precisou de manutenção preditiva (classe positiva)."
   ]
  },
  {
   "cell_type": "code",
   "execution_count": 13,
   "metadata": {},
   "outputs": [],
   "source": [
    "df['target'] = np.random.randint(0, 2, df.shape[0])"
   ]
  },
  {
   "cell_type": "code",
   "execution_count": 25,
   "metadata": {},
   "outputs": [
    {
     "data": {
      "text/plain": [
       "[0.501,\n",
       " 0.506,\n",
       " 0.514,\n",
       " 0.5189999999999999,\n",
       " 0.5210000000000001,\n",
       " 0.533,\n",
       " 0.527,\n",
       " 0.526]"
      ]
     },
     "execution_count": 25,
     "metadata": {},
     "output_type": "execute_result"
    }
   ],
   "source": [
    "scores = []\n",
    "\n",
    "\n",
    "for i in range(1, 9):\n",
    "    pca = PCA(n_components = i)\n",
    "    pca_data = pca.fit_transform(df_padronizado)\n",
    "    lr = LogisticRegression()\n",
    "    score = cross_val_score(lr, pca_data, df['target'], cv = 5).mean()\n",
    "    scores.append(score)\n",
    "scores"
   ]
  },
  {
   "cell_type": "code",
   "execution_count": 16,
   "metadata": {},
   "outputs": [
    {
     "data": {
      "image/png": "[encoded data removed]",
      "text/plain": [
       "<Figure size 640x480 with 1 Axes>"
      ]
     },
     "metadata": {},
     "output_type": "display_data"
    }
   ],
   "source": [
    "# Plot\n",
    "plt.plot(range(1, 9), scores)\n",
    "plt.xlabel('Número de Componentes')\n",
    "plt.ylabel('Desempenho Médio em Validação Cruzada')\n",
    "plt.title('Desempenho vs. Número de Componentes')\n",
    "plt.show()"
   ]
  },
  {
   "cell_type": "markdown",
   "metadata": {},
   "source": [
    "## LOOCV - Leave One Out Cross-Validation\n",
    "\n",
    "Veja a definição no videobook no Capítulo 16 do curso."
   ]
  },
  {
   "cell_type": "code",
   "execution_count": 17,
   "metadata": {},
   "outputs": [
    {
     "name": "stdout",
     "output_type": "stream",
     "text": [
      "LOOCV Score: 0.523\n"
     ]
    }
   ],
   "source": [
    "# Aplicando o LOOCV\n",
    "dsa_loo = LeaveOneOut()\n",
    "dsa_lr = LogisticRegression()\n",
    "scores_loo = cross_val_score(dsa_lr, pca_data, df['target'], cv = dsa_loo)\n",
    "print(f\"LOOCV Score: {scores_loo.mean()}\")\n",
    "\n",
    "# quanto maior o escore melhor"
   ]
  },
  {
   "cell_type": "markdown",
   "metadata": {},
   "source": [
    "## Criando o Modelo Final com os Componentes Principais\n",
    "\n",
    "Aqui, escolhemos o número ideal de componentes com base no gráfico anterior e treinamos nosso modelo com esse número."
   ]
  },
  {
   "cell_type": "code",
   "execution_count": 18,
   "metadata": {},
   "outputs": [
    {
     "data": {
      "text/html": [
       "<style>#sk-container-id-1 {color: black;}#sk-container-id-1 pre{padding: 0;}#sk-container-id-1 div.sk-toggleable {background-color: white;}#sk-container-id-1 label.sk-toggleable__label {cursor: pointer;display: block;width: 100%;margin-bottom: 0;padding: 0.3em;box-sizing: border-box;text-align: center;}#sk-container-id-1 label.sk-toggleable__label-arrow:before {content: \"▸\";float: left;margin-right: 0.25em;color: #696969;}#sk-container-id-1 label.sk-toggleable__label-arrow:hover:before {color: black;}#sk-container-id-1 div.sk-estimator:hover label.sk-toggleable__label-arrow:before {color: black;}#sk-container-id-1 div.sk-toggleable__content {max-height: 0;max-width: 0;overflow: hidden;text-align: left;background-color: #f0f8ff;}#sk-container-id-1 div.sk-toggleable__content pre {margin: 0.2em;color: black;border-radius: 0.25em;background-color: #f0f8ff;}#sk-container-id-1 input.sk-toggleable__control:checked~div.sk-toggleable__content {max-height: 200px;max-width: 100%;overflow: auto;}#sk-container-id-1 input.sk-toggleable__control:checked~label.sk-toggleable__label-arrow:before {content: \"▾\";}#sk-container-id-1 div.sk-estimator input.sk-toggleable__control:checked~label.sk-toggleable__label {background-color: #d4ebff;}#sk-container-id-1 div.sk-label input.sk-toggleable__control:checked~label.sk-toggleable__label {background-color: #d4ebff;}#sk-container-id-1 input.sk-hidden--visually {border: 0;clip: rect(1px 1px 1px 1px);clip: rect(1px, 1px, 1px, 1px);height: 1px;margin: -1px;overflow: hidden;padding: 0;position: absolute;width: 1px;}#sk-container-id-1 div.sk-estimator {font-family: monospace;background-color: #f0f8ff;border: 1px dotted black;border-radius: 0.25em;box-sizing: border-box;margin-bottom: 0.5em;}#sk-container-id-1 div.sk-estimator:hover {background-color: #d4ebff;}#sk-container-id-1 div.sk-parallel-item::after {content: \"\";width: 100%;border-bottom: 1px solid gray;flex-grow: 1;}#sk-container-id-1 div.sk-label:hover label.sk-toggleable__label {background-color: #d4ebff;}#sk-container-id-1 div.sk-serial::before {content: \"\";position: absolute;border-left: 1px solid gray;box-sizing: border-box;top: 0;bottom: 0;left: 50%;z-index: 0;}#sk-container-id-1 div.sk-serial {display: flex;flex-direction: column;align-items: center;background-color: white;padding-right: 0.2em;padding-left: 0.2em;position: relative;}#sk-container-id-1 div.sk-item {position: relative;z-index: 1;}#sk-container-id-1 div.sk-parallel {display: flex;align-items: stretch;justify-content: center;background-color: white;position: relative;}#sk-container-id-1 div.sk-item::before, #sk-container-id-1 div.sk-parallel-item::before {content: \"\";position: absolute;border-left: 1px solid gray;box-sizing: border-box;top: 0;bottom: 0;left: 50%;z-index: -1;}#sk-container-id-1 div.sk-parallel-item {display: flex;flex-direction: column;z-index: 1;position: relative;background-color: white;}#sk-container-id-1 div.sk-parallel-item:first-child::after {align-self: flex-end;width: 50%;}#sk-container-id-1 div.sk-parallel-item:last-child::after {align-self: flex-start;width: 50%;}#sk-container-id-1 div.sk-parallel-item:only-child::after {width: 0;}#sk-container-id-1 div.sk-dashed-wrapped {border: 1px dashed gray;margin: 0 0.4em 0.5em 0.4em;box-sizing: border-box;padding-bottom: 0.4em;background-color: white;}#sk-container-id-1 div.sk-label label {font-family: monospace;font-weight: bold;display: inline-block;line-height: 1.2em;}#sk-container-id-1 div.sk-label-container {text-align: center;}#sk-container-id-1 div.sk-container {/* jupyter's `normalize.less` sets `[hidden] { display: none; }` but bootstrap.min.css set `[hidden] { display: none !important; }` so we also need the `!important` here to be able to override the default hidden behavior on the sphinx rendered scikit-learn.org. See: https://github.com/scikit-learn/scikit-learn/issues/21755 */display: inline-block !important;position: relative;}#sk-container-id-1 div.sk-text-repr-fallback {display: none;}</style><div id=\"sk-container-id-1\" class=\"sk-top-container\"><div class=\"sk-text-repr-fallback\"><pre>LogisticRegression()</pre><b>In a Jupyter environment, please rerun this cell to show the HTML representation or trust the notebook. <br />On GitHub, the HTML representation is unable to render, please try loading this page with nbviewer.org.</b></div><div class=\"sk-container\" hidden><div class=\"sk-item\"><div class=\"sk-estimator sk-toggleable\"><input class=\"sk-toggleable__control sk-hidden--visually\" id=\"sk-estimator-id-1\" type=\"checkbox\" checked><label for=\"sk-estimator-id-1\" class=\"sk-toggleable__label sk-toggleable__label-arrow\">LogisticRegression</label><div class=\"sk-toggleable__content\"><pre>LogisticRegression()</pre></div></div></div></div></div>"
      ],
      "text/plain": [
       "LogisticRegression()"
      ]
     },
     "execution_count": 18,
     "metadata": {},
     "output_type": "execute_result"
    }
   ],
   "source": [
    "# Considerando que 6 é o número ideal de componentes\n",
    "pca_final = PCA(n_components = 6)\n",
    "pca_data_final = pca_final.fit_transform(df_padronizado)\n",
    "modelo_dsa_lr_final = LogisticRegression()\n",
    "modelo_dsa_lr_final.fit(pca_data_final, df['target'])"
   ]
  },
  {
   "cell_type": "code",
   "execution_count": 19,
   "metadata": {},
   "outputs": [],
   "source": [
    "novos_dados_sensores = np.random.randn(1, 8)"
   ]
  },
  {
   "cell_type": "code",
   "execution_count": 21,
   "metadata": {},
   "outputs": [],
   "source": [
    "novos_dados_padronizados = df_scaler.transform(novos_dados_sensores)"
   ]
  },
  {
   "cell_type": "code",
   "execution_count": 22,
   "metadata": {},
   "outputs": [],
   "source": [
    "pca_new_data = pca_final.transform(novos_dados_padronizados)"
   ]
  },
  {
   "cell_type": "code",
   "execution_count": 23,
   "metadata": {},
   "outputs": [
    {
     "name": "stdout",
     "output_type": "stream",
     "text": [
      "[1]\n"
     ]
    }
   ],
   "source": [
    "previsao = modelo_dsa_lr_final.predict(pca_new_data)\n",
    "print(previsao)"
   ]
  },
  {
   "cell_type": "markdown",
   "metadata": {},
   "source": [
    "De acordo com os dados de entrada essa máquina precisa de mantenção preventiva."
   ]
  },
  {
   "cell_type": "code",
   "execution_count": null,
   "metadata": {},
   "outputs": [],
   "source": []
  }
 ],
 "metadata": {
  "kernelspec": {
   "display_name": "Python 3",
   "language": "python",
   "name": "python3"
  },
  "language_info": {
   "codemirror_mode": {
    "name": "ipython",
    "version": 3
   },
   "file_extension": ".py",
   "mimetype": "text/x-python",
   "name": "python",
   "nbconvert_exporter": "python",
   "pygments_lexer": "ipython3",
   "version": "3.12.0"
  }
 },
 "nbformat": 4,
 "nbformat_minor": 2
}
